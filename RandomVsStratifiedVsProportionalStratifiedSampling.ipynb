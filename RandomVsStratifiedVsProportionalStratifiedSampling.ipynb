{
 "cells": [
  {
   "cell_type": "markdown",
   "metadata": {},
   "source": [
    "# From Simple Random Sampling to Stratified and Proportional Stratified Sampling"
   ]
  },
  {
   "cell_type": "markdown",
   "metadata": {},
   "source": [
    "This document demonstrates the differences between Simple Random Sampling (SRS), Stratified Sampling, and Proportional Stratified Sampling (PSS). We compare results from each sampling method so the differences are clear.\n",
    "We used data from the Open University Learning Analytics (OULAD) project to progress from SRS to PSS. According to The Open University web site, the data is about \"courses, students and their interactions with Virtual Learning Environment (VLE) for seven selected courses (called modules)\".\n",
    "This the [Open Learning Analytics dataset](https://analyse.kmi.open.ac.uk/open_dataset) used in this demonstration.\n",
    "Tools used are python, pandas, and matplotlib."
   ]
  },
  {
   "cell_type": "code",
   "execution_count": 1,
   "metadata": {},
   "outputs": [],
   "source": [
    "import pandas as pd\n",
    "import matplotlib.pyplot as plt"
   ]
  },
  {
   "cell_type": "code",
   "execution_count": 2,
   "metadata": {
    "scrolled": true
   },
   "outputs": [
    {
     "name": "stdout",
     "output_type": "stream",
     "text": [
      "(173912, 21)\n"
     ]
    },
    {
     "data": {
      "text/html": [
       "<div>\n",
       "<style scoped>\n",
       "    .dataframe tbody tr th:only-of-type {\n",
       "        vertical-align: middle;\n",
       "    }\n",
       "\n",
       "    .dataframe tbody tr th {\n",
       "        vertical-align: top;\n",
       "    }\n",
       "\n",
       "    .dataframe thead th {\n",
       "        text-align: right;\n",
       "    }\n",
       "</style>\n",
       "<table border=\"1\" class=\"dataframe\">\n",
       "  <thead>\n",
       "    <tr style=\"text-align: right;\">\n",
       "      <th></th>\n",
       "      <th>id_assessment</th>\n",
       "      <th>id_student</th>\n",
       "      <th>when_submitted_days</th>\n",
       "      <th>result_transferred</th>\n",
       "      <th>score_pct</th>\n",
       "      <th>code_module</th>\n",
       "      <th>code_presentation</th>\n",
       "      <th>assessment_type</th>\n",
       "      <th>final_submit_days</th>\n",
       "      <th>weight_assess_pct</th>\n",
       "      <th>...</th>\n",
       "      <th>gender</th>\n",
       "      <th>region</th>\n",
       "      <th>highest_edu</th>\n",
       "      <th>imd_band_pct</th>\n",
       "      <th>age_range</th>\n",
       "      <th>num_prev_attempts</th>\n",
       "      <th>studied_credits</th>\n",
       "      <th>disability</th>\n",
       "      <th>final_result</th>\n",
       "      <th>when_registered_days</th>\n",
       "    </tr>\n",
       "  </thead>\n",
       "  <tbody>\n",
       "    <tr>\n",
       "      <th>97127</th>\n",
       "      <td>15012</td>\n",
       "      <td>630029</td>\n",
       "      <td>163</td>\n",
       "      <td>0</td>\n",
       "      <td>61</td>\n",
       "      <td>BBB</td>\n",
       "      <td>2014B</td>\n",
       "      <td>TMA</td>\n",
       "      <td>152.0</td>\n",
       "      <td>18.0</td>\n",
       "      <td>...</td>\n",
       "      <td>M</td>\n",
       "      <td>London Region</td>\n",
       "      <td>HE Qualification</td>\n",
       "      <td>20-30</td>\n",
       "      <td>0-35</td>\n",
       "      <td>0</td>\n",
       "      <td>120</td>\n",
       "      <td>N</td>\n",
       "      <td>Pass</td>\n",
       "      <td>-59.0</td>\n",
       "    </tr>\n",
       "    <tr>\n",
       "      <th>63712</th>\n",
       "      <td>34894</td>\n",
       "      <td>630830</td>\n",
       "      <td>212</td>\n",
       "      <td>0</td>\n",
       "      <td>75</td>\n",
       "      <td>FFF</td>\n",
       "      <td>2014B</td>\n",
       "      <td>CMA</td>\n",
       "      <td>227.0</td>\n",
       "      <td>0.0</td>\n",
       "      <td>...</td>\n",
       "      <td>M</td>\n",
       "      <td>North Region</td>\n",
       "      <td>Lower Than A Level</td>\n",
       "      <td>40-50</td>\n",
       "      <td>0-35</td>\n",
       "      <td>0</td>\n",
       "      <td>60</td>\n",
       "      <td>N</td>\n",
       "      <td>Pass</td>\n",
       "      <td>-29.0</td>\n",
       "    </tr>\n",
       "    <tr>\n",
       "      <th>153247</th>\n",
       "      <td>24282</td>\n",
       "      <td>133104</td>\n",
       "      <td>32</td>\n",
       "      <td>0</td>\n",
       "      <td>80</td>\n",
       "      <td>CCC</td>\n",
       "      <td>2014B</td>\n",
       "      <td>TMA</td>\n",
       "      <td>32.0</td>\n",
       "      <td>9.0</td>\n",
       "      <td>...</td>\n",
       "      <td>M</td>\n",
       "      <td>London Region</td>\n",
       "      <td>Lower Than A Level</td>\n",
       "      <td>10-20</td>\n",
       "      <td>0-35</td>\n",
       "      <td>0</td>\n",
       "      <td>120</td>\n",
       "      <td>Y</td>\n",
       "      <td>Distinction</td>\n",
       "      <td>-26.0</td>\n",
       "    </tr>\n",
       "  </tbody>\n",
       "</table>\n",
       "<p>3 rows × 21 columns</p>\n",
       "</div>"
      ],
      "text/plain": [
       "       id_assessment id_student  when_submitted_days  result_transferred  \\\n",
       "97127          15012     630029                  163                   0   \n",
       "63712          34894     630830                  212                   0   \n",
       "153247         24282     133104                   32                   0   \n",
       "\n",
       "        score_pct code_module code_presentation assessment_type  \\\n",
       "97127          61         BBB             2014B             TMA   \n",
       "63712          75         FFF             2014B             CMA   \n",
       "153247         80         CCC             2014B             TMA   \n",
       "\n",
       "        final_submit_days  weight_assess_pct         ...           gender  \\\n",
       "97127               152.0               18.0         ...                M   \n",
       "63712               227.0                0.0         ...                M   \n",
       "153247               32.0                9.0         ...                M   \n",
       "\n",
       "               region         highest_edu imd_band_pct age_range  \\\n",
       "97127   London Region    HE Qualification        20-30      0-35   \n",
       "63712    North Region  Lower Than A Level        40-50      0-35   \n",
       "153247  London Region  Lower Than A Level        10-20      0-35   \n",
       "\n",
       "       num_prev_attempts  studied_credits  disability final_result  \\\n",
       "97127                  0              120           N         Pass   \n",
       "63712                  0               60           N         Pass   \n",
       "153247                 0              120           Y  Distinction   \n",
       "\n",
       "       when_registered_days  \n",
       "97127                 -59.0  \n",
       "63712                 -29.0  \n",
       "153247                -26.0  \n",
       "\n",
       "[3 rows x 21 columns]"
      ]
     },
     "execution_count": 2,
     "metadata": {},
     "output_type": "execute_result"
    }
   ],
   "source": [
    "location = \"C:\\dataState\\hub\\Assessments.csv\"\n",
    "assessments = pd.read_csv(location, dtype={'id_assessment': str,'id_student': str})\n",
    "print(assessments.shape)\n",
    "assessments.sample(n=3)"
   ]
  },
  {
   "cell_type": "code",
   "execution_count": 3,
   "metadata": {},
   "outputs": [
    {
     "data": {
      "text/plain": [
       "Index(['id_assessment', 'id_student', 'when_submitted_days',\n",
       "       'result_transferred', 'score_pct', 'code_module', 'code_presentation',\n",
       "       'assessment_type', 'final_submit_days', 'weight_assess_pct',\n",
       "       'mod_pres_days', 'gender', 'region', 'highest_edu', 'imd_band_pct',\n",
       "       'age_range', 'num_prev_attempts', 'studied_credits', 'disability',\n",
       "       'final_result', 'when_registered_days'],\n",
       "      dtype='object')"
      ]
     },
     "execution_count": 3,
     "metadata": {},
     "output_type": "execute_result"
    }
   ],
   "source": [
    "assessments.columns"
   ]
  },
  {
   "cell_type": "code",
   "execution_count": 4,
   "metadata": {},
   "outputs": [
    {
     "data": {
      "text/plain": [
       "id_assessment            object\n",
       "id_student               object\n",
       "when_submitted_days       int64\n",
       "result_transferred        int64\n",
       "score_pct                 int64\n",
       "code_module              object\n",
       "code_presentation        object\n",
       "assessment_type          object\n",
       "final_submit_days       float64\n",
       "weight_assess_pct       float64\n",
       "mod_pres_days             int64\n",
       "gender                   object\n",
       "region                   object\n",
       "highest_edu              object\n",
       "imd_band_pct             object\n",
       "age_range                object\n",
       "num_prev_attempts         int64\n",
       "studied_credits           int64\n",
       "disability               object\n",
       "final_result             object\n",
       "when_registered_days    float64\n",
       "dtype: object"
      ]
     },
     "execution_count": 4,
     "metadata": {},
     "output_type": "execute_result"
    }
   ],
   "source": [
    "assessments.dtypes"
   ]
  },
  {
   "cell_type": "markdown",
   "metadata": {},
   "source": [
    "## Find a sampling error"
   ]
  },
  {
   "cell_type": "markdown",
   "metadata": {},
   "source": [
    "- Find the mean score from the entire dataset (population of 173,912 instances)\n",
    "- From the same dataset, sample 100 instances or observations (statistically, this should be at least 30 instances for future meaningful analysis)\n",
    "- Find the mean score of the sample\n",
    "- Calculate the samping error, that is, the difference between the population mean and the sample mean"
   ]
  },
  {
   "cell_type": "code",
   "execution_count": 5,
   "metadata": {},
   "outputs": [
    {
     "name": "stdout",
     "output_type": "stream",
     "text": [
      "The population mean score is:\n",
      "75.7\n",
      "\n",
      "The sample mean score is:\n",
      "77.7\n",
      "\n",
      "The difference between the population mean and sample mean score is:\n",
      "-2.0\n"
     ]
    }
   ],
   "source": [
    "population_mean = round(assessments['score_pct'].mean(), 1)\n",
    "sample_from_population = assessments['score_pct'].sample(50)\n",
    "sample_mean = round(sample_from_population.mean(), 1)\n",
    "sampling_error = round(population_mean - sample_mean, 1)\n",
    "print(\"The population mean score is:\")\n",
    "print(population_mean)\n",
    "print(\"\\nThe sample mean score is:\")\n",
    "print(sample_mean)\n",
    "print(\"\\nThe difference between the population mean and sample mean score is:\")\n",
    "print(sampling_error)"
   ]
  },
  {
   "cell_type": "markdown",
   "metadata": {},
   "source": [
    "Note that we do not use random_state, so your results will likely differ from the above. More than anything else, the point here is to illustrate process.\n",
    "An important goal in statistics is to minimize the sampling error, for our samples to be representative of the populations from which they are drawn."
   ]
  },
  {
   "cell_type": "markdown",
   "metadata": {},
   "source": [
    "## Illustrate shortfalls of Simple Random Sampling (SRS)"
   ]
  },
  {
   "cell_type": "markdown",
   "metadata": {},
   "source": [
    "Next, instead of one sample (see previous section), we shall sample the scores many more times and then visualize their means. The goal is to plot all the sample means and the solitary indicator of the population's mean scores."
   ]
  },
  {
   "cell_type": "code",
   "execution_count": 6,
   "metadata": {},
   "outputs": [],
   "source": [
    "# we already calculated our population mean, so we shall use that variable\n",
    "# however, we do need structures to contain the samples of varying sizes\n",
    "smallest_sample_size_means = []\n",
    "medium_sample_size_means = []\n",
    "large_sample_size_means = []\n",
    "largest_sample_size_means = []\n",
    "\n",
    "# we iterate a chosen number of times (e.g. 100) through our population and extract different size samples\n",
    "for score in range(100):\n",
    "    smallest_sample = assessments['score_pct'].sample(10)\n",
    "    medium_sample = assessments['score_pct'].sample(50)\n",
    "    large_sample = assessments['score_pct'].sample(100)\n",
    "    largest_sample = assessments['score_pct'].sample(150)\n",
    "    # populate each list with means from the different size samples\n",
    "    smallest_sample_size_means.append(smallest_sample.mean())\n",
    "    medium_sample_size_means.append(medium_sample.mean())\n",
    "    large_sample_size_means.append(large_sample.mean())\n",
    "    largest_sample_size_means.append(largest_sample.mean())"
   ]
  },
  {
   "cell_type": "code",
   "execution_count": 7,
   "metadata": {
    "scrolled": true
   },
   "outputs": [
    {
     "data": {
      "image/png": "[encoded data removed]",
      "text/plain": [
       "<Figure size 432x288 with 4 Axes>"
      ]
     },
     "metadata": {
      "needs_background": "light"
     },
     "output_type": "display_data"
    }
   ],
   "source": [
    "# visualize each set of sample means\n",
    "# within each plot, display a horizontal line showing the population mean\n",
    "fig, (ax1, ax2, ax3, ax4) = plt.subplots(1, 4)\n",
    "fig.suptitle('Sample mean scores (smallest to largest)')\n",
    "ax1.scatter(range(1,101), smallest_sample_size_means)\n",
    "ax1.axhline(population_mean)\n",
    "ax2.scatter(range(1,101), medium_sample_size_means)\n",
    "ax2.axhline(population_mean)\n",
    "ax3.scatter(range(1,101), large_sample_size_means)\n",
    "ax3.axhline(population_mean)\n",
    "ax4.scatter(range(1,101), largest_sample_size_means)\n",
    "ax4.axhline(population_mean)\n",
    "\n",
    "for axes in fig.get_axes():\n",
    "    axes.label_outer()"
   ]
  },
  {
   "cell_type": "markdown",
   "metadata": {},
   "source": [
    "The scatter plots show differences between the entire population mean score (the horizontal line) and each of the sample mean scores represented by the dots. For instance, 10 scores were randomly sampled 100 times and each mean plotted in the left-most scatter plot. Note the changing relationship of the means with respect to the population mean - the horizontal line.\n",
    "We can therefore conclude that, depending on sample sizes, the sample means vary widely when compared with the population score mean. The differences also imply some of our sample means do not fairly represent the population they are drawn from. \n",
    "This happens all the time with, for instance, opinion polls that are then pushed to an unsuspecting consumer as representative!\n",
    "This is an age-old issue with Simple Random Sampling (SRS). In our case, there are several other features that could have influenced student scores, so if we ignore categories within some of those features, we risk missing large areas of a population that may more accurately contribute to our analysis.\n",
    "Given these shortfalls, we shall then consider stratified sampling as an alternative to simple randing sampling."
   ]
  },
  {
   "cell_type": "markdown",
   "metadata": {},
   "source": [
    "## Combine random sampling with stratified sampling"
   ]
  },
  {
   "cell_type": "markdown",
   "metadata": {},
   "source": [
    "To take sampling up a notch, we look at stratified sampling. As stated earlier, categories within some features present opportunities to be more strategic with our sampling.\n",
    "First, we shall determine which features are categorical. Then, we shall pick one of the features for stratified sampling."
   ]
  },
  {
   "cell_type": "code",
   "execution_count": 8,
   "metadata": {},
   "outputs": [
    {
     "data": {
      "text/plain": [
       "Index(['id_assessment', 'id_student', 'when_submitted_days',\n",
       "       'result_transferred', 'score_pct', 'code_module', 'code_presentation',\n",
       "       'assessment_type', 'final_submit_days', 'weight_assess_pct',\n",
       "       'mod_pres_days', 'gender', 'region', 'highest_edu', 'imd_band_pct',\n",
       "       'age_range', 'num_prev_attempts', 'studied_credits', 'disability',\n",
       "       'final_result', 'when_registered_days'],\n",
       "      dtype='object')"
      ]
     },
     "execution_count": 8,
     "metadata": {},
     "output_type": "execute_result"
    }
   ],
   "source": [
    "# These are all the features\n",
    "assessments.columns"
   ]
  },
  {
   "cell_type": "code",
   "execution_count": 9,
   "metadata": {},
   "outputs": [
    {
     "name": "stdout",
     "output_type": "stream",
     "text": [
      "['id_assessment', 'id_student', 'code_module', 'code_presentation', 'assessment_type', 'gender', 'region', 'highest_edu', 'imd_band_pct', 'age_range', 'disability', 'final_result']\n"
     ]
    }
   ],
   "source": [
    "# From all features, these have different levels or categories\n",
    "cat_var = [key for key in dict(assessments.dtypes)\n",
    "             if dict(assessments.dtypes)[key] in ['object'] ]\n",
    "print(cat_var)"
   ]
  },
  {
   "cell_type": "code",
   "execution_count": 10,
   "metadata": {},
   "outputs": [
    {
     "name": "stdout",
     "output_type": "stream",
     "text": [
      "['DDD' 'FFF' 'GGG' 'BBB' 'CCC' 'EEE' 'AAA']\n",
      "['2013B' '2014J' '2013J' '2014B']\n",
      "['Exam' 'CMA' 'TMA']\n",
      "['HE Qualification' 'A Level or Equivalent' 'Lower Than A Level'\n",
      " 'No Formal quals' 'Post Graduate Qualification']\n",
      "['90-100' '70-80' '30-40' '40-50' '0-10' '20-30' '10-20' '50-60' '60-70'\n",
      " '80-90']\n"
     ]
    }
   ],
   "source": [
    "# Display levels in each candidate feature\n",
    "print(assessments['code_module'].unique())\n",
    "print(assessments['code_presentation'].unique())\n",
    "print(assessments['assessment_type'].unique())\n",
    "print(assessments['highest_edu'].unique())\n",
    "print(assessments['imd_band_pct'].unique())"
   ]
  },
  {
   "cell_type": "markdown",
   "metadata": {},
   "source": [
    "From available options, we are selecting highest education levels. This process should not be arbitrary. Research should involve why the different categories exist and why students' performance may be affected by membership in one category instead of another."
   ]
  },
  {
   "cell_type": "code",
   "execution_count": 11,
   "metadata": {},
   "outputs": [],
   "source": [
    "stratum_HE = assessments[assessments.highest_edu == 'HE Qualification']\n",
    "stratum_Alevel = assessments[assessments.highest_edu == 'A Level or Equivalent']\n",
    "stratum_LowerThanA = assessments[assessments.highest_edu == 'Lower Than A Level']\n",
    "stratum_NoFormalQual = assessments[assessments.highest_edu == 'No Formal quals']\n",
    "stratum_PostGradQual = assessments[assessments.highest_edu == 'Post Graduate Qualification']"
   ]
  },
  {
   "cell_type": "markdown",
   "metadata": {},
   "source": [
    "Next, we loop through each of the highest education strata and perform simple random sampling.\n",
    "Within each strata, calculate the mean score and store it in dictionary."
   ]
  },
  {
   "cell_type": "code",
   "execution_count": 12,
   "metadata": {},
   "outputs": [
    {
     "data": {
      "text/plain": [
       "{'HE Qualification': 76.4,\n",
       " 'A Level or Equivalent': 74.9,\n",
       " 'Lower Than A Level': 77.6,\n",
       " 'No Formal quals': 71.1,\n",
       " 'Post Graduate Qualification': 83.8}"
      ]
     },
     "execution_count": 12,
     "metadata": {},
     "output_type": "execute_result"
    }
   ],
   "source": [
    "score_per_edu_level = {}\n",
    "for stratum, level in [(stratum_HE, 'HE Qualification'), (stratum_Alevel, 'A Level or Equivalent')\n",
    "                      ,(stratum_LowerThanA, 'Lower Than A Level'), (stratum_NoFormalQual, 'No Formal quals')\n",
    "                      ,(stratum_PostGradQual, 'Post Graduate Qualification')]:\n",
    "    sample = stratum['score_pct'].sample(100)\n",
    "    score_per_edu_level[level] = round(sample.mean(), 1)\n",
    "score_per_edu_level"
   ]
  },
  {
   "cell_type": "markdown",
   "metadata": {},
   "source": [
    "As seen above, stratifying our dataset before sampling yields interesting results: we obtain a better idea of students' performances based on categories. This is more realistic when planning and policy-making depend on such insights. But it does not end here: while it is great that we now have mean scores per highest education level (or code module, code presentation, etc), we still need to determine average performances when appropriate categories are considered.\n",
    "Specifically, within our strata above, how do we know how representative the means are within each strata? The answer lies in first determining how many students exists in each education level. Once we know this, we can then proportion out the sampling so that the SAME PROPORTION of students is randomly sampled from each education level. This guarantees that the mean scores we are relying on were generated from REPRESENTATIVE samples. In short, we must show that each student, regardless of education level, has the SAME OPPORTUNITY to be randomly sampled. To effect this, we need to conduct proportional stratified sampling."
   ]
  },
  {
   "cell_type": "markdown",
   "metadata": {},
   "source": [
    "## Sample proportionally"
   ]
  },
  {
   "cell_type": "code",
   "execution_count": 13,
   "metadata": {},
   "outputs": [
    {
     "data": {
      "text/plain": [
       "highest_edu\n",
       "A Level or Equivalent          10372\n",
       "HE Qualification                3524\n",
       "Lower Than A Level              9032\n",
       "No Formal quals                  213\n",
       "Post Graduate Qualification      228\n",
       "Name: id_student, dtype: int64"
      ]
     },
     "execution_count": 13,
     "metadata": {},
     "output_type": "execute_result"
    }
   ],
   "source": [
    "students_per_edu_level = assessments.groupby('highest_edu')['id_student'].nunique()\n",
    "students_per_edu_level"
   ]
  },
  {
   "cell_type": "markdown",
   "metadata": {},
   "source": [
    "Turns out the mean scores per education level are from massively unequal numbers numbers of students per level. There are more than 10,000 students with 'A Level or Equivalent', and only 228 with 'Post Graduate Qualification'. Ignoring this lopsidedness often leads to incorrect insights and mis-informed decision-making because our overall mean score is influenced the most by 'A Level or Equivalent' students. To address this problem, we need to ensure that a post-graduate or student without formal qualifications is equally likely to be sampled alongside an 'A Level or Equivalent' student."
   ]
  },
  {
   "cell_type": "code",
   "execution_count": 14,
   "metadata": {},
   "outputs": [
    {
     "name": "stdout",
     "output_type": "stream",
     "text": [
      "                   highest_edu  id_student  stud_prop\n",
      "0        A Level or Equivalent       10372       44.0\n",
      "1             HE Qualification        3524       15.0\n",
      "2           Lower Than A Level        9032       39.0\n",
      "3              No Formal quals         213        1.0\n",
      "4  Post Graduate Qualification         228        1.0\n"
     ]
    }
   ],
   "source": [
    "# Determine the proportion of students in each education level\n",
    "stud_prop_per_edu_group = assessments.groupby('highest_edu')['id_student'].nunique().reset_index()\n",
    "stud_prop_per_edu_group['stud_prop'] = round(100 * stud_prop_per_edu_group['id_student']  / stud_prop_per_edu_group['id_student'].sum(), 0)\n",
    "print(stud_prop_per_edu_group)"
   ]
  },
  {
   "cell_type": "markdown",
   "metadata": {},
   "source": [
    "To ensure fair representation, we need to sample per the proportions generated above. For example, 2 students (1% of 228 students) should be sampled from the 'Post Graduate Qualification' level each time we sample the scores."
   ]
  },
  {
   "cell_type": "code",
   "execution_count": 15,
   "metadata": {},
   "outputs": [],
   "source": [
    "proportional_sample_means = []\n",
    "\n",
    "for i in range(100):\n",
    "    sample_Alevel = stratum_Alevel['score_pct'].sample(44)\n",
    "    sample_HE = stratum_HE['score_pct'].sample(15)\n",
    "    sample_LowerThanA = stratum_LowerThanA['score_pct'].sample(39)\n",
    "    sample_NoFormalQual = stratum_NoFormalQual['score_pct'].sample(1)\n",
    "    sample_PostGradQual = stratum_PostGradQual['score_pct'].sample(1)\n",
    "    \n",
    "    final_sample = pd.concat([sample_Alevel, sample_HE, sample_LowerThanA, sample_NoFormalQual, sample_PostGradQual])\n",
    "    proportional_sample_means.append(final_sample.mean())"
   ]
  },
  {
   "cell_type": "code",
   "execution_count": 16,
   "metadata": {},
   "outputs": [
    {
     "data": {
      "image/png": "[encoded data removed]",
      "text/plain": [
       "<Figure size 432x288 with 5 Axes>"
      ]
     },
     "metadata": {
      "needs_background": "light"
     },
     "output_type": "display_data"
    }
   ],
   "source": [
    "# visualize each set of sample means\n",
    "# within each plot, display a horizontal line showing the population mean\n",
    "fig, (ax1, ax2, ax3, ax4, ax5) = plt.subplots(1, 5)\n",
    "fig.suptitle('Simple Random Sampling vs Proportional Stratified Sampling')\n",
    "ax1.scatter(range(1,101), smallest_sample_size_means, color='grey')\n",
    "ax1.axhline(population_mean)\n",
    "ax2.scatter(range(1,101), medium_sample_size_means, color='grey')\n",
    "ax2.axhline(population_mean)\n",
    "ax3.scatter(range(1,101), large_sample_size_means, color='grey')\n",
    "ax3.axhline(population_mean)\n",
    "ax4.scatter(range(1, 101), largest_sample_size_means, color='grey')\n",
    "ax4.axhline(population_mean)\n",
    "ax5.scatter(range(1, 101), proportional_sample_means, color='blue')\n",
    "ax5.axhline(population_mean)\n",
    "\n",
    "for axes in fig.get_axes():\n",
    "    axes.label_outer()"
   ]
  },
  {
   "cell_type": "markdown",
   "metadata": {},
   "source": [
    "The scatter plots above show Simple Random Sampling (first 4 plots) against Proportional Stratified Sampling (the right-most plot). The PSS plot is one that guarantees that whatever statistics we pursue from this point, we are guaranteed representative samples from the entire dataset (more than 23,000 students) that does not exclude entire sections of our population."
   ]
  },
  {
   "cell_type": "markdown",
   "metadata": {},
   "source": [
    "## Sample by cluster"
   ]
  },
  {
   "cell_type": "markdown",
   "metadata": {},
   "source": [
    "Sometimes there simply aren't resources, time, etc., to go the proportional stratified sampling route illustrated above.\n",
    "Enter cluster sampling. Imagine sampling the entire 'Post Graduate Qualification\" group and leaving out, say, the \"No Formal Quals' group. How will analysis based on such a sample influence policy? Cluster sampling has its pitfalls, but if it is the only option, well..."
   ]
  },
  {
   "cell_type": "code",
   "execution_count": 17,
   "metadata": {},
   "outputs": [
    {
     "name": "stdout",
     "output_type": "stream",
     "text": [
      "1.46\n",
      "0.72\n",
      "2.95\n"
     ]
    }
   ],
   "source": [
    "# Staying with the highest education levels, we start by randomly selecting three of the five\n",
    "clusters = pd.Series(assessments['highest_edu'].unique()).sample(3)\n",
    "\n",
    "sample = pd.DataFrame()\n",
    "\n",
    "for a_cluster in clusters:\n",
    "    sampled_data = assessments[assessments['highest_edu'] == a_cluster]\n",
    "    sample = sample.append(sampled_data)\n",
    "\n",
    "score_SE = round(assessments['score_pct'].mean() - sample['score_pct'].mean(), 2)\n",
    "submitted_SE = round(assessments['when_submitted_days'].mean() - sample['when_submitted_days'].mean(), 2)\n",
    "previous_credit_SE = round(assessments['studied_credits'].mean() - sample['studied_credits'].mean(), 2)\n",
    "print(score_SE)\n",
    "print(submitted_SE)\n",
    "print(previous_credit_SE)"
   ]
  },
  {
   "cell_type": "markdown",
   "metadata": {},
   "source": [
    "In the above results, we see differences between the population mean and cluster means. These are sampling errors that may influence future analysis one way or another."
   ]
  },
  {
   "cell_type": "markdown",
   "metadata": {},
   "source": [
    "# Conclusion"
   ]
  },
  {
   "cell_type": "markdown",
   "metadata": {},
   "source": [
    "Long before we analyze and model data, there is sampling. A thoughtful approach to sampling ultimately affects the quality of analysis, insights, and decisions that may have far-reaching consequences. It is therefore worth the time and effort to sample our datasets in ways that maximize representation."
   ]
  },
  {
   "cell_type": "markdown",
   "metadata": {},
   "source": [
    "- By General Ntshalintshali\n",
    "- portfolio: [datastate.org](https://datastate.org/)"
   ]
  },
  {
   "cell_type": "code",
   "execution_count": null,
   "metadata": {},
   "outputs": [],
   "source": []
  }
 ],
 "metadata": {
  "kernelspec": {
   "display_name": "Python 3",
   "language": "python",
   "name": "python3"
  },
  "language_info": {
   "codemirror_mode": {
    "name": "ipython",
    "version": 3
   },
   "file_extension": ".py",
   "mimetype": "text/x-python",
   "name": "python",
   "nbconvert_exporter": "python",
   "pygments_lexer": "ipython3",
   "version": "3.7.1"
  }
 },
 "nbformat": 4,
 "nbformat_minor": 2
}
