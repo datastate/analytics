{
 "cells": [
  {
   "cell_type": "markdown",
   "metadata": {},
   "source": [
    "# EDA of OULAD Dataset with focus on Pandas' groupby() Function"
   ]
  },
  {
   "cell_type": "markdown",
   "metadata": {},
   "source": [
    "This exercise illustrates initial exploration of two datasets retrieved from the Open Learning Analytics project. In a separate exercise [where the two files were combined](https://github.com/datastate/analytics/blob/master/InitialCleaningOpenLearningAnalytics.ipynb), this exercise continues EDA by focusing on Pandas' groupby() function. The groupby() function is particularly useful where several variables need to be combined for a single result."
   ]
  },
  {
   "cell_type": "markdown",
   "metadata": {},
   "source": [
    "This the [Open Learning Analytics dataset](https://analyse.kmi.open.ac.uk/open_dataset) used in this project"
   ]
  },
  {
   "cell_type": "code",
   "execution_count": 1,
   "metadata": {},
   "outputs": [
    {
     "name": "stdout",
     "output_type": "stream",
     "text": [
      "        row_num  id_assessment  id_student  time_taken_days  \\\n",
      "81037     84362          15005      440225              133   \n",
      "138039   143371          34909      647320              241   \n",
      "\n",
      "       result_transferred_from_previous  score_pct code_module  \\\n",
      "81037                                No         60         BBB   \n",
      "138039                               No         84         FFF   \n",
      "\n",
      "       code_presentation gender               region         highest_edu  \\\n",
      "81037              2013J      F  East Anglian Region  Lower Than A Level   \n",
      "138039             2014J      F              Ireland  Lower Than A Level   \n",
      "\n",
      "       imd_band_pct age_band  num_prev_attempts  current_credits disabled  \\\n",
      "81037         50-60    35-55                  0               60        N   \n",
      "138039        30-40     0-35                  0              120        N   \n",
      "\n",
      "       final_result  \n",
      "81037          Pass  \n",
      "138039         Pass  \n"
     ]
    }
   ],
   "source": [
    "import pandas as pd\n",
    "\n",
    "sadata = pd.read_csv(\"C:\\dataHub\\combined_assessments.csv\")\n",
    "print(sadata.sample(n=2))"
   ]
  },
  {
   "cell_type": "code",
   "execution_count": 2,
   "metadata": {},
   "outputs": [
    {
     "name": "stdout",
     "output_type": "stream",
     "text": [
      "<class 'pandas.core.frame.DataFrame'>\n",
      "RangeIndex: 198004 entries, 0 to 198003\n",
      "Data columns (total 17 columns):\n",
      "row_num                             198004 non-null int64\n",
      "id_assessment                       198004 non-null int64\n",
      "id_student                          198004 non-null int64\n",
      "time_taken_days                     198004 non-null int64\n",
      "result_transferred_from_previous    198004 non-null object\n",
      "score_pct                           198004 non-null int64\n",
      "code_module                         198004 non-null object\n",
      "code_presentation                   198004 non-null object\n",
      "gender                              198004 non-null object\n",
      "region                              198004 non-null object\n",
      "highest_edu                         198004 non-null object\n",
      "imd_band_pct                        198004 non-null object\n",
      "age_band                            198004 non-null object\n",
      "num_prev_attempts                   198004 non-null int64\n",
      "current_credits                     198004 non-null int64\n",
      "disabled                            198004 non-null object\n",
      "final_result                        198004 non-null object\n",
      "dtypes: int64(7), object(10)\n",
      "memory usage: 25.7+ MB\n"
     ]
    }
   ],
   "source": [
    "sadata.info()"
   ]
  },
  {
   "cell_type": "code",
   "execution_count": 3,
   "metadata": {},
   "outputs": [],
   "source": [
    "sadata['row_num'] = sadata['row_num'].astype(str)\n",
    "sadata['id_assessment'] = sadata['id_assessment'].astype(str)\n",
    "sadata['id_student'] = sadata['id_student'].astype(str)"
   ]
  },
  {
   "cell_type": "code",
   "execution_count": 4,
   "metadata": {},
   "outputs": [
    {
     "name": "stdout",
     "output_type": "stream",
     "text": [
      "<class 'pandas.core.frame.DataFrame'>\n",
      "RangeIndex: 198004 entries, 0 to 198003\n",
      "Data columns (total 17 columns):\n",
      "row_num                             198004 non-null object\n",
      "id_assessment                       198004 non-null object\n",
      "id_student                          198004 non-null object\n",
      "time_taken_days                     198004 non-null int64\n",
      "result_transferred_from_previous    198004 non-null object\n",
      "score_pct                           198004 non-null int64\n",
      "code_module                         198004 non-null object\n",
      "code_presentation                   198004 non-null object\n",
      "gender                              198004 non-null object\n",
      "region                              198004 non-null object\n",
      "highest_edu                         198004 non-null object\n",
      "imd_band_pct                        198004 non-null object\n",
      "age_band                            198004 non-null object\n",
      "num_prev_attempts                   198004 non-null int64\n",
      "current_credits                     198004 non-null int64\n",
      "disabled                            198004 non-null object\n",
      "final_result                        198004 non-null object\n",
      "dtypes: int64(4), object(13)\n",
      "memory usage: 25.7+ MB\n"
     ]
    }
   ],
   "source": [
    "sadata.info()"
   ]
  },
  {
   "cell_type": "code",
   "execution_count": 17,
   "metadata": {},
   "outputs": [
    {
     "data": {
      "text/html": [
       "<div>\n",
       "<style scoped>\n",
       "    .dataframe tbody tr th:only-of-type {\n",
       "        vertical-align: middle;\n",
       "    }\n",
       "\n",
       "    .dataframe tbody tr th {\n",
       "        vertical-align: top;\n",
       "    }\n",
       "\n",
       "    .dataframe thead th {\n",
       "        text-align: right;\n",
       "    }\n",
       "</style>\n",
       "<table border=\"1\" class=\"dataframe\">\n",
       "  <thead>\n",
       "    <tr style=\"text-align: right;\">\n",
       "      <th></th>\n",
       "      <th>time_taken_days</th>\n",
       "      <th>score_pct</th>\n",
       "      <th>num_prev_attempts</th>\n",
       "      <th>current_credits</th>\n",
       "    </tr>\n",
       "  </thead>\n",
       "  <tbody>\n",
       "    <tr>\n",
       "      <th>count</th>\n",
       "      <td>198004</td>\n",
       "      <td>198004</td>\n",
       "      <td>198004</td>\n",
       "      <td>198004</td>\n",
       "    </tr>\n",
       "    <tr>\n",
       "      <th>mean</th>\n",
       "      <td>114</td>\n",
       "      <td>75</td>\n",
       "      <td>0</td>\n",
       "      <td>78</td>\n",
       "    </tr>\n",
       "    <tr>\n",
       "      <th>std</th>\n",
       "      <td>72</td>\n",
       "      <td>19</td>\n",
       "      <td>0</td>\n",
       "      <td>38</td>\n",
       "    </tr>\n",
       "    <tr>\n",
       "      <th>min</th>\n",
       "      <td>-11</td>\n",
       "      <td>0</td>\n",
       "      <td>0</td>\n",
       "      <td>30</td>\n",
       "    </tr>\n",
       "    <tr>\n",
       "      <th>25%</th>\n",
       "      <td>49</td>\n",
       "      <td>65</td>\n",
       "      <td>0</td>\n",
       "      <td>60</td>\n",
       "    </tr>\n",
       "    <tr>\n",
       "      <th>50%</th>\n",
       "      <td>114</td>\n",
       "      <td>79</td>\n",
       "      <td>0</td>\n",
       "      <td>60</td>\n",
       "    </tr>\n",
       "    <tr>\n",
       "      <th>75%</th>\n",
       "      <td>172</td>\n",
       "      <td>89</td>\n",
       "      <td>0</td>\n",
       "      <td>90</td>\n",
       "    </tr>\n",
       "    <tr>\n",
       "      <th>max</th>\n",
       "      <td>608</td>\n",
       "      <td>100</td>\n",
       "      <td>6</td>\n",
       "      <td>630</td>\n",
       "    </tr>\n",
       "  </tbody>\n",
       "</table>\n",
       "</div>"
      ],
      "text/plain": [
       "       time_taken_days  score_pct  num_prev_attempts  current_credits\n",
       "count           198004     198004             198004           198004\n",
       "mean               114         75                  0               78\n",
       "std                 72         19                  0               38\n",
       "min                -11          0                  0               30\n",
       "25%                 49         65                  0               60\n",
       "50%                114         79                  0               60\n",
       "75%                172         89                  0               90\n",
       "max                608        100                  6              630"
      ]
     },
     "execution_count": 17,
     "metadata": {},
     "output_type": "execute_result"
    }
   ],
   "source": [
    "sadata.describe().astype(int)"
   ]
  },
  {
   "cell_type": "code",
   "execution_count": 6,
   "metadata": {
    "scrolled": true
   },
   "outputs": [
    {
     "name": "stdout",
     "output_type": "stream",
     "text": [
      "dict_keys(['AAA', 'BBB', 'CCC', 'DDD', 'EEE', 'FFF', 'GGG'])\n",
      "dict_keys(['2013B', '2013J', '2014B', '2014J'])\n",
      "dict_keys(['East Anglian Region', 'East Midlands Region', 'Ireland', 'London Region', 'North Region', 'North Western Region', 'Scotland', 'South East Region', 'South Region', 'South West Region', 'Wales', 'West Midlands Region', 'Yorkshire Region'])\n",
      "dict_keys(['A Level or Equivalent', 'HE Qualification', 'Lower Than A Level', 'No Formal quals', 'Post Graduate Qualification'])\n",
      "dict_keys(['0-10', '20-30', '20-Oct', '30-40', '40-50', '50-60', '60-70', '70-80', '80-90', '90-100'])\n",
      "dict_keys(['0-35', '35-55', '55<='])\n",
      "dict_keys([0, 1, 2, 3, 4, 5, 6])\n",
      "dict_keys(['F', 'M'])\n",
      "dict_keys([0, 1, 2, 3, 4, 5, 6])\n"
     ]
    }
   ],
   "source": [
    "print(sadata.groupby(['code_module']).groups.keys())\n",
    "print(sadata.groupby(['code_presentation']).groups.keys())\n",
    "print(sadata.groupby(['region']).groups.keys())\n",
    "print(sadata.groupby(['highest_edu']).groups.keys())\n",
    "print(sadata.groupby(['imd_band_pct']).groups.keys())\n",
    "print(sadata.groupby(['age_band']).groups.keys())\n",
    "print(sadata.groupby(['num_prev_attempts']).groups.keys())\n",
    "print(sadata.groupby(['gender']).groups.keys())\n",
    "print(sadata.groupby(['num_prev_attempts']).groups.keys())"
   ]
  },
  {
   "cell_type": "markdown",
   "metadata": {},
   "source": [
    "The '20-Oct' IMD Band appears incorrect. For purposes of this exercise, it is assumed that it should have been 20-30 in line with the other categories. However, one does not immediately make such assumptions without due diligence, discussions with business partners, verifying data capture processes, etc"
   ]
  },
  {
   "cell_type": "code",
   "execution_count": 7,
   "metadata": {},
   "outputs": [],
   "source": [
    "sadata['imd_band_pct'] = sadata['imd_band_pct'].str.replace(\"20-Oct\", \"20-30\")"
   ]
  },
  {
   "cell_type": "code",
   "execution_count": 8,
   "metadata": {},
   "outputs": [
    {
     "name": "stdout",
     "output_type": "stream",
     "text": [
      "dict_keys(['0-10', '20-30', '30-40', '40-50', '50-60', '60-70', '70-80', '80-90', '90-100'])\n"
     ]
    }
   ],
   "source": [
    "print(sadata.groupby(['imd_band_pct']).groups.keys())"
   ]
  },
  {
   "cell_type": "markdown",
   "metadata": {},
   "source": [
    "# Grouping by a single variable"
   ]
  },
  {
   "cell_type": "code",
   "execution_count": 9,
   "metadata": {},
   "outputs": [
    {
     "data": {
      "text/plain": [
       "imd_band_pct\n",
       "0-10      71\n",
       "20-30     73\n",
       "30-40     74\n",
       "40-50     75\n",
       "50-60     75\n",
       "60-70     75\n",
       "70-80     75\n",
       "80-90     77\n",
       "90-100    77\n",
       "Name: score_pct, dtype: int32"
      ]
     },
     "execution_count": 9,
     "metadata": {},
     "output_type": "execute_result"
    }
   ],
   "source": [
    "# Average score per Index of Multiple Depravation (IMD) band (\"...where the student lived...\")\n",
    "sadata.groupby('imd_band_pct')['score_pct'].mean().astype(int)"
   ]
  },
  {
   "cell_type": "code",
   "execution_count": 10,
   "metadata": {},
   "outputs": [
    {
     "data": {
      "text/plain": [
       "highest_edu\n",
       "A Level or Equivalent          75\n",
       "HE Qualification               77\n",
       "Lower Than A Level             73\n",
       "No Formal quals                69\n",
       "Post Graduate Qualification    83\n",
       "Name: score_pct, dtype: int32"
      ]
     },
     "execution_count": 10,
     "metadata": {},
     "output_type": "execute_result"
    }
   ],
   "source": [
    "sadata.groupby('highest_edu')['score_pct'].mean().astype(int)"
   ]
  },
  {
   "cell_type": "code",
   "execution_count": 11,
   "metadata": {},
   "outputs": [
    {
     "data": {
      "text/plain": [
       "num_prev_attempts\n",
       "0    75\n",
       "1    71\n",
       "2    70\n",
       "3    66\n",
       "4    69\n",
       "5    67\n",
       "6    77\n",
       "Name: score_pct, dtype: int32"
      ]
     },
     "execution_count": 11,
     "metadata": {},
     "output_type": "execute_result"
    }
   ],
   "source": [
    "sadata.groupby('num_prev_attempts')['score_pct'].mean().astype(int)"
   ]
  },
  {
   "cell_type": "code",
   "execution_count": 12,
   "metadata": {},
   "outputs": [
    {
     "data": {
      "text/plain": [
       "code_module\n",
       "BBB    70\n",
       "CCC    66\n",
       "DDD    60\n",
       "EEE    72\n",
       "FFF    71\n",
       "GGG    71\n",
       "Name: score_pct, dtype: int32"
      ]
     },
     "execution_count": 12,
     "metadata": {},
     "output_type": "execute_result"
    }
   ],
   "source": [
    "# Average score of students with no formal qualifications per code module\n",
    "sadata[sadata['highest_edu'] == 'No Formal quals'].groupby('code_module')['score_pct'].mean().astype(int)"
   ]
  },
  {
   "cell_type": "code",
   "execution_count": 13,
   "metadata": {
    "scrolled": true
   },
   "outputs": [
    {
     "data": {
      "text/plain": [
       "num_prev_attempts\n",
       "0    72\n",
       "1    69\n",
       "2    67\n",
       "3    57\n",
       "4    72\n",
       "5    58\n",
       "6    75\n",
       "Name: score_pct, dtype: int32"
      ]
     },
     "execution_count": 13,
     "metadata": {},
     "output_type": "execute_result"
    }
   ],
   "source": [
    "# Average scores of students in the lowest IMD band (0-10%) per number of previous attempts\n",
    "sadata[sadata['imd_band_pct'] == '0-10'].groupby('num_prev_attempts')['score_pct'].mean().astype(int)"
   ]
  },
  {
   "cell_type": "markdown",
   "metadata": {},
   "source": [
    "# Grouping by multiple variables"
   ]
  },
  {
   "cell_type": "code",
   "execution_count": 14,
   "metadata": {},
   "outputs": [
    {
     "data": {
      "text/plain": [
       "region                imd_band_pct  num_prev_attempts\n",
       "South West Region     40-50         1                    72\n",
       "Scotland              40-50         2                    77\n",
       "West Midlands Region  30-40         2                    72\n",
       "North Western Region  60-70         0                    76\n",
       "South Region          80-90         2                    62\n",
       "Name: score_pct, dtype: int32"
      ]
     },
     "execution_count": 14,
     "metadata": {},
     "output_type": "execute_result"
    }
   ],
   "source": [
    "# What is the average score per number of previous attempts within each IMB Band per geographical region?\n",
    "gp_multi_1 = sadata.groupby(['region', 'imd_band_pct', 'num_prev_attempts'])['score_pct'].mean().astype(int)\n",
    "gp_multi_1.sample(n = 5)"
   ]
  },
  {
   "cell_type": "code",
   "execution_count": 15,
   "metadata": {
    "scrolled": true
   },
   "outputs": [
    {
     "data": {
      "text/plain": [
       "age_band  highest_edu            num_prev_attempts  code_module\n",
       "35-55     HE Qualification       4                  BBB            75\n",
       "          A Level or Equivalent  1                  DDD            71\n",
       "0-35      A Level or Equivalent  1                  FFF            74\n",
       "          Lower Than A Level     2                  GGG            81\n",
       "55<=      HE Qualification       0                  FFF            83\n",
       "Name: score_pct, dtype: int32"
      ]
     },
     "execution_count": 15,
     "metadata": {},
     "output_type": "execute_result"
    }
   ],
   "source": [
    "# What is the average score for each code module per number of previous attempts per education level within each age band?\n",
    "gp_multi_2 = sadata.groupby(['age_band', 'highest_edu', 'num_prev_attempts', 'code_module'])['score_pct'].mean().astype(int)\n",
    "gp_multi_2.sample( n = 5)"
   ]
  },
  {
   "cell_type": "markdown",
   "metadata": {},
   "source": [
    "# Brief Illustration of Acquiring Descriptive Statistics"
   ]
  },
  {
   "cell_type": "code",
   "execution_count": 18,
   "metadata": {},
   "outputs": [
    {
     "data": {
      "text/html": [
       "<div>\n",
       "<style scoped>\n",
       "    .dataframe tbody tr th:only-of-type {\n",
       "        vertical-align: middle;\n",
       "    }\n",
       "\n",
       "    .dataframe tbody tr th {\n",
       "        vertical-align: top;\n",
       "    }\n",
       "\n",
       "    .dataframe thead th {\n",
       "        text-align: right;\n",
       "    }\n",
       "</style>\n",
       "<table border=\"1\" class=\"dataframe\">\n",
       "  <thead>\n",
       "    <tr style=\"text-align: right;\">\n",
       "      <th></th>\n",
       "      <th></th>\n",
       "      <th>num_prev_attempts</th>\n",
       "      <th>score_pct</th>\n",
       "    </tr>\n",
       "    <tr>\n",
       "      <th>code_module</th>\n",
       "      <th>code_presentation</th>\n",
       "      <th></th>\n",
       "      <th></th>\n",
       "    </tr>\n",
       "  </thead>\n",
       "  <tbody>\n",
       "    <tr>\n",
       "      <th rowspan=\"2\" valign=\"top\">BBB</th>\n",
       "      <th>2013J</th>\n",
       "      <td>5</td>\n",
       "      <td>78.608247</td>\n",
       "    </tr>\n",
       "    <tr>\n",
       "      <th>2014J</th>\n",
       "      <td>5</td>\n",
       "      <td>66.872123</td>\n",
       "    </tr>\n",
       "    <tr>\n",
       "      <th rowspan=\"2\" valign=\"top\">FFF</th>\n",
       "      <th>2013J</th>\n",
       "      <td>4</td>\n",
       "      <td>76.418760</td>\n",
       "    </tr>\n",
       "    <tr>\n",
       "      <th>2014J</th>\n",
       "      <td>6</td>\n",
       "      <td>77.951975</td>\n",
       "    </tr>\n",
       "    <tr>\n",
       "      <th>CCC</th>\n",
       "      <th>2014B</th>\n",
       "      <td>0</td>\n",
       "      <td>72.747125</td>\n",
       "    </tr>\n",
       "  </tbody>\n",
       "</table>\n",
       "</div>"
      ],
      "text/plain": [
       "                               num_prev_attempts  score_pct\n",
       "code_module code_presentation                              \n",
       "BBB         2013J                              5  78.608247\n",
       "            2014J                              5  66.872123\n",
       "FFF         2013J                              4  76.418760\n",
       "            2014J                              6  77.951975\n",
       "CCC         2014B                              0  72.747125"
      ]
     },
     "execution_count": 18,
     "metadata": {},
     "output_type": "execute_result"
    }
   ],
   "source": [
    "gp_codes = sadata.groupby(\n",
    "    ['code_module', 'code_presentation']\n",
    ").agg(\n",
    "    {\n",
    "        'num_prev_attempts': max, # maximum previous attempts within each code presentation per code module\n",
    "        'score_pct': \"mean\" # average score within each code presentation per code module\n",
    "        # based on business requirements, many more descriptive statistics can be generated in similar fashion\n",
    "    }\n",
    ")\n",
    "gp_codes.sample(n = 5)"
   ]
  },
  {
   "cell_type": "markdown",
   "metadata": {},
   "source": [
    "# Conclusion"
   ]
  },
  {
   "cell_type": "markdown",
   "metadata": {},
   "source": [
    "This exercise illustrated EDA using the Open Learning Analytics dataset. After minor cleanup of rogue data, various single variable and multiple variable analyses were conducted. I put the power of Pandas' groupby function to work in order to obtain views of the data from numerous angles. Lastly, I illustrated how to use the agg() function to retrieve descriptive statistics. This EDA only scrapes the surface: as usual, let specific business requirements drive the analysis."
   ]
  },
  {
   "cell_type": "code",
   "execution_count": null,
   "metadata": {},
   "outputs": [],
   "source": []
  }
 ],
 "metadata": {
  "kernelspec": {
   "display_name": "Python 3",
   "language": "python",
   "name": "python3"
  },
  "language_info": {
   "codemirror_mode": {
    "name": "ipython",
    "version": 3
   },
   "file_extension": ".py",
   "mimetype": "text/x-python",
   "name": "python",
   "nbconvert_exporter": "python",
   "pygments_lexer": "ipython3",
   "version": "3.7.1"
  }
 },
 "nbformat": 4,
 "nbformat_minor": 2
}
