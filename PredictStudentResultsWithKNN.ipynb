{
 "cells": [
  {
   "cell_type": "markdown",
   "metadata": {},
   "source": [
    "# Predict students' final results using k-NN"
   ]
  },
  {
   "cell_type": "markdown",
   "metadata": {},
   "source": [
    "## Introduction"
   ]
  },
  {
   "cell_type": "markdown",
   "metadata": {},
   "source": [
    "This project uses the Open University Learning Analytics Dataset (OULAD) to predict if incoming students will succeed or choke. The OULAD \"contains data about courses, students and their interactions with Virtual Learning Environment (VLE) for seven selected courses (called modules)\". \n",
    "Sourced from the [OULAD site](https://analyse.kmi.open.ac.uk/open_dataset), seven csv-formatted files include student registration, demographics, courses taken, click data, and assessments. For this project, data from five of the seven files were processed, cleaned, and merged.\n",
    "To aid educational resource planning, policy-making, and improve successful program completion, this project aims to predict likely final results of incoming students."
   ]
  },
  {
   "cell_type": "markdown",
   "metadata": {},
   "source": [
    "## Solution approach"
   ]
  },
  {
   "cell_type": "markdown",
   "metadata": {},
   "source": [
    "In a separate exercise, five data files were merged into one cohesive dataset.\n",
    "For this work, we shall use k-Nearest Neighbor Classification to help predict where an incoming student will succeed or choke. We define succeeding as a distinction or pass result, while choking means failing or withdrawing.\n",
    "Since features, target, and data size are known, k-NN is deemed an appropriate algorithm."
   ]
  },
  {
   "cell_type": "markdown",
   "metadata": {},
   "source": [
    "## Setup environment and import data"
   ]
  },
  {
   "cell_type": "code",
   "execution_count": 1,
   "metadata": {},
   "outputs": [],
   "source": [
    "# Import pandas and numpy\n",
    "import pandas as pd\n",
    "from pandas import Series, DataFrame\n",
    "import numpy as np\n",
    "\n",
    "# Import for visualization \n",
    "import seaborn as sb \n",
    "import matplotlib.pyplot as plt\n",
    "from pylab import rcParams\n",
    "\n",
    "# Import for encoding, preprocessing, and modeling\n",
    "import sklearn\n",
    "from sklearn import preprocessing\n",
    "from sklearn.preprocessing import LabelEncoder\n",
    "from sklearn.model_selection import train_test_split\n",
    "from sklearn.neighbors import KNeighborsClassifier\n",
    "from sklearn import neighbors\n",
    "from sklearn import metrics"
   ]
  },
  {
   "cell_type": "code",
   "execution_count": 2,
   "metadata": {},
   "outputs": [],
   "source": [
    "# Set up jupyter notebook to process plots\n",
    "%matplotlib inline\n",
    "rcParams['figure.figsize'] = 8,4\n",
    "sb.set_style('white')"
   ]
  },
  {
   "cell_type": "code",
   "execution_count": 3,
   "metadata": {},
   "outputs": [
    {
     "name": "stdout",
     "output_type": "stream",
     "text": [
      "(180662, 21)\n"
     ]
    },
    {
     "data": {
      "text/html": [
       "<div>\n",
       "<style scoped>\n",
       "    .dataframe tbody tr th:only-of-type {\n",
       "        vertical-align: middle;\n",
       "    }\n",
       "\n",
       "    .dataframe tbody tr th {\n",
       "        vertical-align: top;\n",
       "    }\n",
       "\n",
       "    .dataframe thead th {\n",
       "        text-align: right;\n",
       "    }\n",
       "</style>\n",
       "<table border=\"1\" class=\"dataframe\">\n",
       "  <thead>\n",
       "    <tr style=\"text-align: right;\">\n",
       "      <th></th>\n",
       "      <th>id_assessment</th>\n",
       "      <th>id_student</th>\n",
       "      <th>when_submitted_days</th>\n",
       "      <th>result_transferred</th>\n",
       "      <th>score_pct</th>\n",
       "      <th>code_module</th>\n",
       "      <th>code_presentation</th>\n",
       "      <th>assessment_type</th>\n",
       "      <th>final_submit_days</th>\n",
       "      <th>weight_assess_pct</th>\n",
       "      <th>...</th>\n",
       "      <th>gender</th>\n",
       "      <th>region</th>\n",
       "      <th>highest_edu</th>\n",
       "      <th>imd_band_pct</th>\n",
       "      <th>age_range</th>\n",
       "      <th>num_prev_attempts</th>\n",
       "      <th>studied_credits</th>\n",
       "      <th>disability</th>\n",
       "      <th>final_result</th>\n",
       "      <th>when_registered_days</th>\n",
       "    </tr>\n",
       "  </thead>\n",
       "  <tbody>\n",
       "    <tr>\n",
       "      <th>117703</th>\n",
       "      <td>34895</td>\n",
       "      <td>624946</td>\n",
       "      <td>163.0</td>\n",
       "      <td>0.0</td>\n",
       "      <td>73.0</td>\n",
       "      <td>FFF</td>\n",
       "      <td>2014B</td>\n",
       "      <td>CMA</td>\n",
       "      <td>227.0</td>\n",
       "      <td>0.0</td>\n",
       "      <td>...</td>\n",
       "      <td>M</td>\n",
       "      <td>North Region</td>\n",
       "      <td>Lower Than A Level</td>\n",
       "      <td>70-80</td>\n",
       "      <td>0-35</td>\n",
       "      <td>0</td>\n",
       "      <td>120</td>\n",
       "      <td>N</td>\n",
       "      <td>Pass</td>\n",
       "      <td>-40.0</td>\n",
       "    </tr>\n",
       "    <tr>\n",
       "      <th>67365</th>\n",
       "      <td>34883</td>\n",
       "      <td>2290267</td>\n",
       "      <td>156.0</td>\n",
       "      <td>0.0</td>\n",
       "      <td>81.0</td>\n",
       "      <td>FFF</td>\n",
       "      <td>2013J</td>\n",
       "      <td>CMA</td>\n",
       "      <td>236.0</td>\n",
       "      <td>0.0</td>\n",
       "      <td>...</td>\n",
       "      <td>M</td>\n",
       "      <td>North Region</td>\n",
       "      <td>Lower Than A Level</td>\n",
       "      <td>40-50</td>\n",
       "      <td>0-35</td>\n",
       "      <td>1</td>\n",
       "      <td>120</td>\n",
       "      <td>N</td>\n",
       "      <td>Pass</td>\n",
       "      <td>-67.0</td>\n",
       "    </tr>\n",
       "    <tr>\n",
       "      <th>105774</th>\n",
       "      <td>34909</td>\n",
       "      <td>685619</td>\n",
       "      <td>206.0</td>\n",
       "      <td>0.0</td>\n",
       "      <td>78.0</td>\n",
       "      <td>FFF</td>\n",
       "      <td>2014J</td>\n",
       "      <td>CMA</td>\n",
       "      <td>241.0</td>\n",
       "      <td>0.0</td>\n",
       "      <td>...</td>\n",
       "      <td>M</td>\n",
       "      <td>Scotland</td>\n",
       "      <td>HE Qualification</td>\n",
       "      <td>0-10</td>\n",
       "      <td>0-35</td>\n",
       "      <td>0</td>\n",
       "      <td>105</td>\n",
       "      <td>Y</td>\n",
       "      <td>Pass</td>\n",
       "      <td>-32.0</td>\n",
       "    </tr>\n",
       "  </tbody>\n",
       "</table>\n",
       "<p>3 rows × 21 columns</p>\n",
       "</div>"
      ],
      "text/plain": [
       "       id_assessment id_student  when_submitted_days  result_transferred  \\\n",
       "117703         34895     624946                163.0                 0.0   \n",
       "67365          34883    2290267                156.0                 0.0   \n",
       "105774         34909     685619                206.0                 0.0   \n",
       "\n",
       "        score_pct code_module code_presentation assessment_type  \\\n",
       "117703       73.0         FFF             2014B             CMA   \n",
       "67365        81.0         FFF             2013J             CMA   \n",
       "105774       78.0         FFF             2014J             CMA   \n",
       "\n",
       "        final_submit_days  weight_assess_pct         ...           gender  \\\n",
       "117703              227.0                0.0         ...                M   \n",
       "67365               236.0                0.0         ...                M   \n",
       "105774              241.0                0.0         ...                M   \n",
       "\n",
       "              region         highest_edu imd_band_pct age_range  \\\n",
       "117703  North Region  Lower Than A Level        70-80      0-35   \n",
       "67365   North Region  Lower Than A Level        40-50      0-35   \n",
       "105774      Scotland    HE Qualification         0-10      0-35   \n",
       "\n",
       "       num_prev_attempts  studied_credits  disability final_result  \\\n",
       "117703                 0              120           N         Pass   \n",
       "67365                  1              120           N         Pass   \n",
       "105774                 0              105           Y         Pass   \n",
       "\n",
       "       when_registered_days  \n",
       "117703                -40.0  \n",
       "67365                 -67.0  \n",
       "105774                -32.0  \n",
       "\n",
       "[3 rows x 21 columns]"
      ]
     },
     "execution_count": 3,
     "metadata": {},
     "output_type": "execute_result"
    }
   ],
   "source": [
    "location = \"C:\\dataState\\hub\\OULAD_merged.csv\"\n",
    "assessments_wip = pd.read_csv(location, dtype={'id_assessment': str,'id_student': str})\n",
    "print(assessments_wip.shape)\n",
    "assessments_wip.sample(n=3)"
   ]
  },
  {
   "cell_type": "code",
   "execution_count": 4,
   "metadata": {},
   "outputs": [
    {
     "data": {
      "text/plain": [
       "id_assessment            object\n",
       "id_student               object\n",
       "when_submitted_days     float64\n",
       "result_transferred      float64\n",
       "score_pct               float64\n",
       "code_module              object\n",
       "code_presentation        object\n",
       "assessment_type          object\n",
       "final_submit_days       float64\n",
       "weight_assess_pct       float64\n",
       "mod_pres_days           float64\n",
       "gender                   object\n",
       "region                   object\n",
       "highest_edu              object\n",
       "imd_band_pct             object\n",
       "age_range                object\n",
       "num_prev_attempts         int64\n",
       "studied_credits           int64\n",
       "disability               object\n",
       "final_result             object\n",
       "when_registered_days    float64\n",
       "dtype: object"
      ]
     },
     "execution_count": 4,
     "metadata": {},
     "output_type": "execute_result"
    }
   ],
   "source": [
    "# Check data types\n",
    "assessments_wip.dtypes"
   ]
  },
  {
   "cell_type": "markdown",
   "metadata": {},
   "source": [
    "To understand the data better, here are brief descriptions of some of the features"
   ]
  },
  {
   "cell_type": "markdown",
   "metadata": {},
   "source": [
    "- when_submitted_days  : submission date of an assignment, measured in number of days\n",
    "- code_module          : an identifier for each module which, in turn, has several assessments\n",
    "- code_presentation    : an identifier for each presentation which, in turn, has several assessments\n",
    "- assessment_type      : there are three - tutor marked, computer marked, and a final exam\n",
    "- region               : geographic region where each student resided while participating\n",
    "- highest_edu          : the highest education attained by each student, e.g., A Levels or equivalent\n",
    "- imd_band_pct         : an index that measures deprivation based on income, employment, health, etc\n",
    "- num_prev_attempts    : number of times each student previously attempted the VLE\n",
    "- studied_credits      : if previously attempted, this is the current credit load per student\n",
    "- when_registered_days : when a student registered, measured in days from when a module began\n",
    "- final_result         : distinction, pass, fail, or withdrawn"
   ]
  },
  {
   "cell_type": "markdown",
   "metadata": {},
   "source": [
    "## Data cleaning and validation"
   ]
  },
  {
   "cell_type": "markdown",
   "metadata": {},
   "source": [
    "Before using the data, we need to prepare it for the k-NN algorithm. Missing and duplicated data should be dealt with. Additionally, the dataset should be labeled, features and target should seek to address the requirement, and categories within features should be clearly identifiable.\n",
    "\n",
    "### Deal with missing data"
   ]
  },
  {
   "cell_type": "code",
   "execution_count": 5,
   "metadata": {
    "scrolled": true
   },
   "outputs": [
    {
     "data": {
      "text/plain": [
       "id_assessment           6750\n",
       "id_student                 0\n",
       "when_submitted_days     6750\n",
       "result_transferred      6750\n",
       "score_pct               6750\n",
       "code_module                0\n",
       "code_presentation          0\n",
       "assessment_type         6750\n",
       "final_submit_days       9615\n",
       "weight_assess_pct       6750\n",
       "mod_pres_days           6750\n",
       "gender                     0\n",
       "region                     0\n",
       "highest_edu                0\n",
       "imd_band_pct               0\n",
       "age_range                  0\n",
       "num_prev_attempts          0\n",
       "studied_credits            0\n",
       "disability                 0\n",
       "final_result               0\n",
       "when_registered_days      48\n",
       "dtype: int64"
      ]
     },
     "execution_count": 5,
     "metadata": {},
     "output_type": "execute_result"
    }
   ],
   "source": [
    "# Locate and count missing values\n",
    "assessments_wip.isnull().sum()"
   ]
  },
  {
   "cell_type": "markdown",
   "metadata": {},
   "source": [
    "Decisions made about missing values should involve all stakeholders.\n",
    "In our case, most of the missing data resulted from withdrawals. Consequently, corresponding features also have missing data. \n",
    "In our case, we can drop all affected instances because they add little value to the analysis."
   ]
  },
  {
   "cell_type": "code",
   "execution_count": 6,
   "metadata": {
    "scrolled": true
   },
   "outputs": [
    {
     "name": "stdout",
     "output_type": "stream",
     "text": [
      "Observation count before missing data are dropped...\n",
      "(180662, 21)\n",
      "\n",
      "Observation count after missing data are dropped...\n",
      "(171040, 21)\n"
     ]
    }
   ],
   "source": [
    "# Filter out missing values\n",
    "print(\"Observation count before missing data are dropped...\")\n",
    "print(assessments_wip.shape)\n",
    "assessments_wip = assessments_wip.dropna()\n",
    "print(\"\\nObservation count after missing data are dropped...\")\n",
    "print(assessments_wip.shape)"
   ]
  },
  {
   "cell_type": "code",
   "execution_count": 7,
   "metadata": {
    "scrolled": true
   },
   "outputs": [
    {
     "data": {
      "text/plain": [
       "id_assessment           0\n",
       "id_student              0\n",
       "when_submitted_days     0\n",
       "result_transferred      0\n",
       "score_pct               0\n",
       "code_module             0\n",
       "code_presentation       0\n",
       "assessment_type         0\n",
       "final_submit_days       0\n",
       "weight_assess_pct       0\n",
       "mod_pres_days           0\n",
       "gender                  0\n",
       "region                  0\n",
       "highest_edu             0\n",
       "imd_band_pct            0\n",
       "age_range               0\n",
       "num_prev_attempts       0\n",
       "studied_credits         0\n",
       "disability              0\n",
       "final_result            0\n",
       "when_registered_days    0\n",
       "dtype: int64"
      ]
     },
     "execution_count": 7,
     "metadata": {},
     "output_type": "execute_result"
    }
   ],
   "source": [
    "# The before/after missing data count is as expected\n",
    "# Verify that there are now no features with missing data. \n",
    "assessments_wip.isnull().sum()"
   ]
  },
  {
   "cell_type": "markdown",
   "metadata": {},
   "source": [
    "### Filter out irrelevant features"
   ]
  },
  {
   "cell_type": "markdown",
   "metadata": {},
   "source": [
    "The dataset contains features that are not relevant for our project, e.g., student IDs, assessment IDs, disability status, gender etc. These will need to be filtered out before we proceed.\n",
    "(We emphasize that it does not mean these features should be ignored: including all features would greatly expand project scope.)"
   ]
  },
  {
   "cell_type": "code",
   "execution_count": 8,
   "metadata": {
    "scrolled": true
   },
   "outputs": [
    {
     "data": {
      "text/html": [
       "<div>\n",
       "<style scoped>\n",
       "    .dataframe tbody tr th:only-of-type {\n",
       "        vertical-align: middle;\n",
       "    }\n",
       "\n",
       "    .dataframe tbody tr th {\n",
       "        vertical-align: top;\n",
       "    }\n",
       "\n",
       "    .dataframe thead th {\n",
       "        text-align: right;\n",
       "    }\n",
       "</style>\n",
       "<table border=\"1\" class=\"dataframe\">\n",
       "  <thead>\n",
       "    <tr style=\"text-align: right;\">\n",
       "      <th></th>\n",
       "      <th>id_assessment</th>\n",
       "      <th>when_submitted_days</th>\n",
       "      <th>code_module</th>\n",
       "      <th>code_presentation</th>\n",
       "      <th>assessment_type</th>\n",
       "      <th>final_submit_days</th>\n",
       "      <th>mod_pres_days</th>\n",
       "      <th>region</th>\n",
       "      <th>highest_edu</th>\n",
       "      <th>imd_band_pct</th>\n",
       "      <th>age_range</th>\n",
       "      <th>num_prev_attempts</th>\n",
       "      <th>studied_credits</th>\n",
       "      <th>final_result</th>\n",
       "      <th>when_registered_days</th>\n",
       "    </tr>\n",
       "  </thead>\n",
       "  <tbody>\n",
       "    <tr>\n",
       "      <th>25049</th>\n",
       "      <td>24296</td>\n",
       "      <td>69.0</td>\n",
       "      <td>CCC</td>\n",
       "      <td>2014J</td>\n",
       "      <td>CMA</td>\n",
       "      <td>67.0</td>\n",
       "      <td>269.0</td>\n",
       "      <td>East Midlands Region</td>\n",
       "      <td>A Level or Equivalent</td>\n",
       "      <td>50-60</td>\n",
       "      <td>0-35</td>\n",
       "      <td>1</td>\n",
       "      <td>250</td>\n",
       "      <td>Fail</td>\n",
       "      <td>-18.0</td>\n",
       "    </tr>\n",
       "    <tr>\n",
       "      <th>138199</th>\n",
       "      <td>34883</td>\n",
       "      <td>237.0</td>\n",
       "      <td>FFF</td>\n",
       "      <td>2013J</td>\n",
       "      <td>CMA</td>\n",
       "      <td>236.0</td>\n",
       "      <td>268.0</td>\n",
       "      <td>West Midlands Region</td>\n",
       "      <td>Lower Than A Level</td>\n",
       "      <td>50-60</td>\n",
       "      <td>0-35</td>\n",
       "      <td>0</td>\n",
       "      <td>60</td>\n",
       "      <td>Pass</td>\n",
       "      <td>-144.0</td>\n",
       "    </tr>\n",
       "    <tr>\n",
       "      <th>35488</th>\n",
       "      <td>14986</td>\n",
       "      <td>88.0</td>\n",
       "      <td>BBB</td>\n",
       "      <td>2013B</td>\n",
       "      <td>TMA</td>\n",
       "      <td>89.0</td>\n",
       "      <td>240.0</td>\n",
       "      <td>South East Region</td>\n",
       "      <td>Lower Than A Level</td>\n",
       "      <td>70-80</td>\n",
       "      <td>0-35</td>\n",
       "      <td>1</td>\n",
       "      <td>120</td>\n",
       "      <td>Pass</td>\n",
       "      <td>-118.0</td>\n",
       "    </tr>\n",
       "  </tbody>\n",
       "</table>\n",
       "</div>"
      ],
      "text/plain": [
       "       id_assessment  when_submitted_days code_module code_presentation  \\\n",
       "25049          24296                 69.0         CCC             2014J   \n",
       "138199         34883                237.0         FFF             2013J   \n",
       "35488          14986                 88.0         BBB             2013B   \n",
       "\n",
       "       assessment_type  final_submit_days  mod_pres_days  \\\n",
       "25049              CMA               67.0          269.0   \n",
       "138199             CMA              236.0          268.0   \n",
       "35488              TMA               89.0          240.0   \n",
       "\n",
       "                      region            highest_edu imd_band_pct age_range  \\\n",
       "25049   East Midlands Region  A Level or Equivalent        50-60      0-35   \n",
       "138199  West Midlands Region     Lower Than A Level        50-60      0-35   \n",
       "35488      South East Region     Lower Than A Level        70-80      0-35   \n",
       "\n",
       "        num_prev_attempts  studied_credits final_result  when_registered_days  \n",
       "25049                   1              250         Fail                 -18.0  \n",
       "138199                  0               60         Pass                -144.0  \n",
       "35488                   1              120         Pass                -118.0  "
      ]
     },
     "execution_count": 8,
     "metadata": {},
     "output_type": "execute_result"
    }
   ],
   "source": [
    "# Drop features that will not be used to predict final results\n",
    "assessments_data = assessments_wip.drop(['id_student', 'result_transferred', 'weight_assess_pct', 'gender', 'disability', 'score_pct'], axis = 1)\n",
    "assessments_data.sample(n=3)"
   ]
  },
  {
   "cell_type": "markdown",
   "metadata": {},
   "source": [
    "We are now left with features to be used to predict incoming students' likelihood for success or failure.\n",
    "As stakeholders, one of the decisions we need to make is to re-categorize 'final result', from the current distinction/pass/fail/withdrawn to just two - succeed or choke. In the new scheme, 'distinction' or 'pass' is labelled as 'succeed' while 'fail' or 'withdrawn' are labelled as 'choke'."
   ]
  },
  {
   "cell_type": "code",
   "execution_count": 9,
   "metadata": {
    "scrolled": true
   },
   "outputs": [
    {
     "data": {
      "text/plain": [
       "<matplotlib.axes._subplots.AxesSubplot at 0x204b692c080>"
      ]
     },
     "execution_count": 9,
     "metadata": {},
     "output_type": "execute_result"
    },
    {
     "data": {
      "image/png": "[encoded data removed]",
      "text/plain": [
       "<Figure size 576x288 with 1 Axes>"
      ]
     },
     "metadata": {},
     "output_type": "display_data"
    }
   ],
   "source": [
    "# Given the executive decisions made regarding 'final result' categories, we need to recode our target\n",
    "# We begin by interrogating the current breakdown of the target 'final_result'\n",
    "sb.countplot(x='final_result', data=assessments_data, palette='hls')"
   ]
  },
  {
   "cell_type": "markdown",
   "metadata": {},
   "source": [
    "Per previous discussion, the four outcomes will be rolled into two - succeed (1) or choke (2)."
   ]
  },
  {
   "cell_type": "code",
   "execution_count": 10,
   "metadata": {},
   "outputs": [],
   "source": [
    "# Our interest is to predict if an incoming student is likely to succeed or choke in the program\n",
    "# Therefore, we construct categories accordingly\n",
    "assessments_data['final_result'] = assessments_data['final_result'].str.replace(\"Distinction\", \"Succeed\")\n",
    "assessments_data['final_result'] = assessments_data['final_result'].str.replace(\"Pass\", \"Succeed\")\n",
    "assessments_data['final_result'] = assessments_data['final_result'].str.replace(\"Fail\", \"Choke\")\n",
    "assessments_data['final_result'] = assessments_data['final_result'].str.replace(\"Withdrawn\", \"Choke\")"
   ]
  },
  {
   "cell_type": "code",
   "execution_count": 11,
   "metadata": {
    "scrolled": true
   },
   "outputs": [
    {
     "data": {
      "text/plain": [
       "final_result\n",
       "Choke       41157\n",
       "Succeed    129883\n",
       "Name: final_result, dtype: int64"
      ]
     },
     "execution_count": 11,
     "metadata": {},
     "output_type": "execute_result"
    }
   ],
   "source": [
    "assessments_data.groupby('final_result')['final_result'].count()"
   ]
  },
  {
   "cell_type": "markdown",
   "metadata": {},
   "source": [
    "The final result breakdown is shown: students who succeeded in the current VLE program make up more than three times those who choked for at least two reasons that we know of - failed or withdrew from the program. As in most cases, educators and administrators, in addition to the students themselves, prefer to see as little choking as possible. This is why predicting that likelihood is potentially powerful: interventions can be put in place."
   ]
  },
  {
   "cell_type": "code",
   "execution_count": 12,
   "metadata": {
    "scrolled": true
   },
   "outputs": [
    {
     "data": {
      "text/plain": [
       "<matplotlib.axes._subplots.AxesSubplot at 0x204b699b7b8>"
      ]
     },
     "execution_count": 12,
     "metadata": {},
     "output_type": "execute_result"
    },
    {
     "data": {
      "image/png": "[encoded data removed]",
      "text/plain": [
       "<Figure size 576x288 with 1 Axes>"
      ]
     },
     "metadata": {},
     "output_type": "display_data"
    }
   ],
   "source": [
    "# Confirm the final result categories\n",
    "sb.countplot(x='final_result', data=assessments_data, palette='hls')"
   ]
  },
  {
   "cell_type": "markdown",
   "metadata": {},
   "source": [
    "### Verify data state"
   ]
  },
  {
   "cell_type": "markdown",
   "metadata": {},
   "source": [
    "It is also important to ensure there is no 'dirty' data lurking within the features and target.\n",
    "To keep the length of this project as short as possible, only data that require further attention are highlighted here."
   ]
  },
  {
   "cell_type": "code",
   "execution_count": 13,
   "metadata": {
    "scrolled": true
   },
   "outputs": [
    {
     "data": {
      "text/plain": [
       "imd_band_pct\n",
       "0-10      15771\n",
       "20-30     18241\n",
       "20-Oct    17527\n",
       "30-40     19845\n",
       "40-50     17386\n",
       "50-60     17383\n",
       "60-70     16551\n",
       "70-80     16670\n",
       "80-90     16150\n",
       "90-100    15516\n",
       "Name: imd_band_pct, dtype: int64"
      ]
     },
     "execution_count": 13,
     "metadata": {},
     "output_type": "execute_result"
    }
   ],
   "source": [
    "# We determined that IMD Band data requires cleaning\n",
    "assessments_data.groupby(['imd_band_pct'])['imd_band_pct'].count()"
   ]
  },
  {
   "cell_type": "markdown",
   "metadata": {},
   "source": [
    "The groupby results show a '20-Oct' category that is unlike the other bands.\n",
    "\n",
    "[IMD Bands](https://assets.publishing.service.gov.uk/government/uploads/system/uploads/attachment_data/file/464430/English_Index_of_Multiple_Deprivation_2015_-_Guidance.pdf) are indices that measure \"relative deprivation for small areas (or neighbourhoods) in England...calculated by ranking the 32,844 small areas in England from most deprived to least deprived and dividing them into 10 equal groups\"\n",
    "\n",
    "Based on the IMD Bands information from the UK's Department for Communities and Local Government, we can conclude that the '20-Oct' is meant to be '10-20': first, the '10-20' category is missing from a slot that follows '0-10'; second, and perhaps more telling from a data processing perspective, it is the numeric equivalent of October (10) that seems to have been incorrectly captured or interpreted; third, the count of 18,678 instances aligns with each of the other categories' count."
   ]
  },
  {
   "cell_type": "code",
   "execution_count": 14,
   "metadata": {},
   "outputs": [
    {
     "data": {
      "text/plain": [
       "imd_band_pct\n",
       "0-10      15771\n",
       "10-20     17527\n",
       "20-30     18241\n",
       "30-40     19845\n",
       "40-50     17386\n",
       "50-60     17383\n",
       "60-70     16551\n",
       "70-80     16670\n",
       "80-90     16150\n",
       "90-100    15516\n",
       "Name: imd_band_pct, dtype: int64"
      ]
     },
     "execution_count": 14,
     "metadata": {},
     "output_type": "execute_result"
    }
   ],
   "source": [
    "# Clean out the '20-Oct' category\n",
    "assessments_data['imd_band_pct'] = assessments_data['imd_band_pct'].str.replace(\"20-Oct\", \"10-20\")\n",
    "# Confirm replacement result\n",
    "assessments_data.groupby(['imd_band_pct'])['imd_band_pct'].count()"
   ]
  },
  {
   "cell_type": "markdown",
   "metadata": {},
   "source": [
    "### Encode features"
   ]
  },
  {
   "cell_type": "markdown",
   "metadata": {},
   "source": [
    "Since we intend to apply the kNN algorithm, we need to convert our features and target to numerical data. The process entails creating dummy indicators that will be fed to the classification model.\n",
    "We selected featues that we believe play a role in determining students' learning outcomes: IMD Bands, age, number of previous attempts, current credit load as an indicator of work already done, and eagerness to 'get it done' based on how soon (or late) a student registers."
   ]
  },
  {
   "cell_type": "code",
   "execution_count": 15,
   "metadata": {},
   "outputs": [
    {
     "name": "stdout",
     "output_type": "stream",
     "text": [
      "\n",
      "IMD Bands are represented as...\n",
      "[0 1 2 3 4 5 6 7 8 9]\n",
      "\n",
      "Age ranges are represented as...\n",
      "[0 1 2]\n",
      "\n",
      "Number of previous attempts is represented as...\n",
      "[0 1 2 3 4 5 6]\n",
      "\n",
      "Number of previously studied credits is represented as...\n",
      "[ 0  1  2  3  4  5  6  7  8  9 10 11 12 13 14 15 16 17 18 19 20 21 22 23\n",
      " 24 25 26 27 28 29 30 31 32 33 34 35 36 37 38 39 40 41 42 43 44 45 46 47\n",
      " 48 49 50]\n",
      "\n",
      "Registration days from assessment start is represented as...\n",
      "[  0   1   2   3   4   5   6   7   8   9  10  11  12  13  14  15  16  17\n",
      "  18  19  20  21  22  23  24  25  26  27  28  29  30  31  32  33  34  35\n",
      "  36  37  38  39  40  41  42  43  44  45  46  47  48  49  50  51  52  53\n",
      "  54  55  56  57  58  59  60  61  62  63  64  65  66  67  68  69  70  71\n",
      "  72  73  74  75  76  77  78  79  80  81  82  83  84  85  86  87  88  89\n",
      "  90  91  92  93  94  95  96  97  98  99 100 101 102 103 104 105 106 107\n",
      " 108 109 110 111 112 113 114 115 116 117 118 119 120 121 122 123 124 125\n",
      " 126 127 128 129 130 131 132 133 134 135 136 137 138 139 140 141 142 143\n",
      " 144 145 146 147 148 149 150 151 152 153 154 155 156 157 158 159 160 161\n",
      " 162 163 164 165 166 167 168 169 170 171 172 173 174 175 176 177 178 179\n",
      " 180 181 182 183 184 185 186 187 188 189 190 191 192 193 194 195 196 197\n",
      " 198 199 200 201 202 203 204 205 206 207 208 209 210 211 212 213 214 215\n",
      " 216 217 218 219 220 221 222 223 224 225 226 227 228 229 230 231 232 233\n",
      " 234 235 236 237 238 239 240 241 242 243 244 245 246 247 248 249 250 251\n",
      " 252 253 254 255 256 257 258 259 260 261 262 263 264 265 266 267 268 269\n",
      " 270 271 272 273 274 275 276 277 278 279 280 281 282 283 284 285 286 287\n",
      " 288 289 290 291 292 293 294 295 296 297 298 299 300 301 302 303 304 305\n",
      " 306 307 308 309 310 311]\n"
     ]
    }
   ],
   "source": [
    "# Instantiate the label encoder and then process the features we selected in a previous step\n",
    "le = LabelEncoder()\n",
    "\n",
    "# Encode IMD Bands\n",
    "imd_encoded = le.fit_transform(assessments_data['imd_band_pct'])\n",
    "print(\"\\nIMD Bands are represented as...\")\n",
    "print(np.unique(imd_encoded))\n",
    "\n",
    "# Encode age range\n",
    "age_encoded = le.fit_transform(assessments_data['age_range'])\n",
    "print(\"\\nAge ranges are represented as...\")\n",
    "print(np.unique(age_encoded))\n",
    "\n",
    "# Encode number of previous attempts\n",
    "num_prev_attempts_encoded = le.fit_transform(assessments_data['num_prev_attempts'])\n",
    "print(\"\\nNumber of previous attempts is represented as...\")\n",
    "print(np.unique(num_prev_attempts_encoded))\n",
    "\n",
    "# Encode previously studied credits\n",
    "studied_credits_encoded = le.fit_transform(assessments_data['studied_credits'])\n",
    "print(\"\\nNumber of previously studied credits is represented as...\")\n",
    "print(np.unique(studied_credits_encoded))\n",
    "\n",
    "# Encode registration day (count from beginning of assessment work)\n",
    "when_registered_days_encoded = le.fit_transform(assessments_data['when_registered_days'])\n",
    "print(\"\\nRegistration days from assessment start is represented as...\")\n",
    "print(np.unique(when_registered_days_encoded))"
   ]
  },
  {
   "cell_type": "markdown",
   "metadata": {},
   "source": [
    "Combine features into one list of tuples in preparation for feeding the kNN algorithm"
   ]
  },
  {
   "cell_type": "code",
   "execution_count": 16,
   "metadata": {
    "scrolled": true
   },
   "outputs": [
    {
     "data": {
      "text/plain": [
       "[(5, 1, 0, 5, 166),\n",
       " (3, 0, 0, 0, 211),\n",
       " (3, 1, 1, 17, 247),\n",
       " (1, 1, 0, 22, 246),\n",
       " (4, 0, 2, 5, 248)]"
      ]
     },
     "execution_count": 16,
     "metadata": {},
     "output_type": "execute_result"
    }
   ],
   "source": [
    "# Combine all applicable features\n",
    "features = list(zip(imd_encoded, age_encoded, num_prev_attempts_encoded, studied_credits_encoded, when_registered_days_encoded))\n",
    "features_list = list(set(features))\n",
    "features_list[:5]"
   ]
  },
  {
   "cell_type": "markdown",
   "metadata": {},
   "source": [
    "The above sample is a list of tuples that contain the features the kNN model will process momentarily"
   ]
  },
  {
   "cell_type": "markdown",
   "metadata": {},
   "source": [
    "Similar to work encoding done on the features, we also need to encode our target (final result) into binary options"
   ]
  },
  {
   "cell_type": "code",
   "execution_count": 17,
   "metadata": {},
   "outputs": [
    {
     "name": "stdout",
     "output_type": "stream",
     "text": [
      "Final result categories are represented as...\n",
      "[0 1]\n",
      "\n",
      "...and the target shape is:\n"
     ]
    },
    {
     "data": {
      "text/plain": [
       "(171040,)"
      ]
     },
     "execution_count": 17,
     "metadata": {},
     "output_type": "execute_result"
    }
   ],
   "source": [
    "# Here we encode succeed as 1 and choke as 0\n",
    "target_final_result = assessments_data['final_result']\n",
    "final_result_encoded = le.fit_transform(target_final_result)\n",
    "target = final_result_encoded\n",
    "print(\"Final result categories are represented as...\")\n",
    "print(np.unique(target))\n",
    "print(\"\\n...and the target shape is:\")\n",
    "target.shape"
   ]
  },
  {
   "cell_type": "markdown",
   "metadata": {},
   "source": [
    "## kNN model preparation and deployment"
   ]
  },
  {
   "cell_type": "markdown",
   "metadata": {},
   "source": [
    "### Generate the k-NN classification model"
   ]
  },
  {
   "cell_type": "code",
   "execution_count": 18,
   "metadata": {},
   "outputs": [],
   "source": [
    "# Use scikit-learn's train_test_split function to split features and target data. \n",
    "# This is very important for the model's efficacy: without 'unseen' data to test with, our model would give 'perfect' predictions\n",
    "# 80/20 or 66/33 are typically used to split the data. The guideline is to use more data for training than for testing\n",
    "X_train, X_test, y_train, y_test = train_test_split(features, target, test_size=0.20) # 80% training, 20% testing"
   ]
  },
  {
   "cell_type": "markdown",
   "metadata": {},
   "source": [
    "### Evaluate the model"
   ]
  },
  {
   "cell_type": "markdown",
   "metadata": {},
   "source": [
    "The module metrics, imported from scikit-learn at the beginning of this project, is used to determine accuracy"
   ]
  },
  {
   "cell_type": "code",
   "execution_count": 19,
   "metadata": {},
   "outputs": [
    {
     "name": "stdout",
     "output_type": "stream",
     "text": [
      "\n",
      "The predicted values for our test values or our 'pretend' incoming students data are...\n",
      "\n",
      "[1 1 1 ... 1 1 0]\n",
      "\n",
      "...and the accuracy of the predictions for the given k values is:\n",
      "\n",
      "[0.8033500935453695, 0.8189604770813844, 0.8221176333021516, 0.8198082319925164, 0.8142247427502338, 0.8093136108512629, 0.805396398503274]\n"
     ]
    }
   ],
   "source": [
    "# Predict classification using the test dataset instantiated above\n",
    "k_values = [1, 3, 5, 7, 9, 11, 13] \n",
    "# More k values can be included here, but the computation is intensive and so a balance must be struck\n",
    "accuracy_scores = [] # We will append accuracy scores to this list\n",
    "\n",
    "# Loop through different values of k to predict whether an incoming student will succeed or choke in the VLE program\n",
    "# Test the accuracy of the predictions\n",
    "for k in k_values:\n",
    "    knn = KNeighborsClassifier(n_neighbors=k) # Instantiate a kNN classifier\n",
    "    knn.fit(X_train, y_train) # Train the kNN model using the datasets we instantiated above\n",
    "    y_pred = knn.predict(X_test)\n",
    "    accuracy_scores.append(metrics.accuracy_score(y_test, y_pred))\n",
    "print(\"\\nThe predicted values for our test values or our 'pretend' incoming students data are...\\n\")\n",
    "print(y_pred)\n",
    "print(\"\\n...and the accuracy of the predictions for the given k values is:\\n\")\n",
    "print(accuracy_scores)"
   ]
  },
  {
   "cell_type": "code",
   "execution_count": 20,
   "metadata": {
    "scrolled": true
   },
   "outputs": [
    {
     "data": {
      "text/plain": [
       "Text(0, 0.5, 'Model Accuracy')"
      ]
     },
     "execution_count": 20,
     "metadata": {},
     "output_type": "execute_result"
    },
    {
     "data": {
      "image/png": "[encoded data removed]",
      "text/plain": [
       "<Figure size 576x288 with 1 Axes>"
      ]
     },
     "metadata": {},
     "output_type": "display_data"
    }
   ],
   "source": [
    "plt.plot(k_values, accuracy_scores)\n",
    "plt.xlabel('k-value for kNN')\n",
    "plt.ylabel('Model Accuracy')"
   ]
  },
  {
   "cell_type": "markdown",
   "metadata": {},
   "source": [
    "The accuracy figure is the proportion of predictations that are correct. \n",
    "The model indicates that accuracy is highest at 5 nearest neighbors at just over 82%, and lowest when k = 1 or 13. k = 3 or 7 nearest neighbors also yields good prediction accuracy.\n",
    "We can therefore use our model to reliably predict if new students are likely to succeed or choke. Education administrators and policy makers can more actively dedicate resources towards those students identified as likely to struggle."
   ]
  },
  {
   "cell_type": "code",
   "execution_count": 21,
   "metadata": {
    "scrolled": true
   },
   "outputs": [
    {
     "name": "stdout",
     "output_type": "stream",
     "text": [
      "              precision    recall  f1-score   support\n",
      "\n",
      "           0       0.68      0.36      0.47      8215\n",
      "           1       0.82      0.95      0.88     25993\n",
      "\n",
      "   micro avg       0.81      0.81      0.81     34208\n",
      "   macro avg       0.75      0.65      0.67     34208\n",
      "weighted avg       0.79      0.81      0.78     34208\n",
      "\n"
     ]
    }
   ],
   "source": [
    "# View a classification report summarizing the above breakdown\n",
    "print(metrics.classification_report(y_test, y_pred))"
   ]
  },
  {
   "cell_type": "markdown",
   "metadata": {},
   "source": [
    "An important figure in the classification report is the recall of 95% which measures our model's completeness. A simpler way of stating this is that out of all the data predicting success, 95% (of the data) are truly relevant. There is therefore about 5% of the data that are considered noise. The report also indicates that out of ALL the prediction data generated, 81% of the data were truly relevant (weighted avg)."
   ]
  },
  {
   "cell_type": "code",
   "execution_count": 22,
   "metadata": {},
   "outputs": [
    {
     "data": {
      "text/plain": [
       "array([[ 2935,  5280],\n",
       "       [ 1377, 24616]], dtype=int64)"
      ]
     },
     "execution_count": 22,
     "metadata": {},
     "output_type": "execute_result"
    }
   ],
   "source": [
    "# Another useful item is the confusion matrix\n",
    "metrics.confusion_matrix(y_test, y_pred)"
   ]
  },
  {
   "cell_type": "markdown",
   "metadata": {},
   "source": [
    "The confusion matrix tells us that 2,935 and 24,616 are correct predictions, while 1,377 and 5,280 are incorrect. This is a breakdown of the accuracy or precision scores already generated and discussed above."
   ]
  },
  {
   "cell_type": "markdown",
   "metadata": {},
   "source": [
    "## Model testing"
   ]
  },
  {
   "cell_type": "markdown",
   "metadata": {},
   "source": [
    "We conclude the project by testing predictions. One way to do this will be to compare an existing student's profile and prediction with our new student's data.\n",
    "The 'new' students' profiles will be similar (not same) in some aspects to the existing students. In real life, a new student will still be from planet earth, will still be within some age range, etc., so in that respect we can expect their profile to loosely resemble a former student. This will allow us to gauge how the kNN model will perform when real new students join the program in the future. Until that happens, in the modeling world we carve out test data and separate it from training. For example, student X may reside in London, possess no higher education, and belong in the <=55 year old age bracket."
   ]
  },
  {
   "cell_type": "code",
   "execution_count": 23,
   "metadata": {
    "scrolled": false
   },
   "outputs": [
    {
     "name": "stdout",
     "output_type": "stream",
     "text": [
      "\n",
      "Five students with the following profiles...\n",
      "\n",
      "[(9, 1, 1, 5, 265), (9, 1, 1, 17, 252), (1, 0, 0, 17, 156), (8, 1, 0, 5, 256), (5, 0, 0, 5, 204)]\n",
      "imd_encoded, age_encoded, num_prev_attempts_encoded, studied_credits_encoded, when_registered_days_encoded\n",
      "\n",
      "...each obtained these final results\n",
      "\n",
      "[0 1 0 1 0]\n"
     ]
    }
   ],
   "source": [
    "# To begin predicting incoming students' final results, we shall select a few and use their profiles to create new students\n",
    "# We shall also pick the same students' final results\n",
    "print(\"\\nFive students with the following profiles...\\n\")\n",
    "print(features[0:171040:40000])\n",
    "print(\"imd_encoded, age_encoded, num_prev_attempts_encoded, studied_credits_encoded, when_registered_days_encoded\")\n",
    "print(\"\\n...each obtained these final results\\n\")\n",
    "print(target[0:171040:40000])\n"
   ]
  },
  {
   "cell_type": "code",
   "execution_count": 24,
   "metadata": {},
   "outputs": [
    {
     "name": "stdout",
     "output_type": "stream",
     "text": [
      "\n",
      "student_0 with this profile:\n",
      "[(9, 1, 1, 5, 265)]\n",
      "\n",
      "was used to create this new profile...\n",
      "[[  8   3   1   8 256]]\n",
      "\n",
      "...and our model predicted this result:\n",
      "[0]\n"
     ]
    }
   ],
   "source": [
    "# Next, we create a new imaginary student (with a realistic profile)\n",
    "new_student_0 = np.array([8, 3, 1, 8, 256]).reshape(1, -1) # the suffix has no significance whatsoever\n",
    "\n",
    "print(\"\\nstudent_0 with this profile:\")\n",
    "print(features[0:1])\n",
    "print(\"\\nwas used to create this new profile...\")\n",
    "print(new_student_0)\n",
    "print(\"\\n...and our model predicted this result:\")\n",
    "print(knn.predict(new_student_0))"
   ]
  },
  {
   "cell_type": "markdown",
   "metadata": {},
   "source": [
    "- Student 0:\n",
    "The new student belongs to a different IMD Band and age category. Additionally, s/he registered on day 256 (compared with 265) and carries a different credit load.\n",
    "Our model correctly predicted that 'new_student_0' would choke ('final result' 0). This is the same prediction made from the existing first student's profile. In short, despite some profile differences, the new student is \"near\" enough to the original student to obtain the same classification. Education administrators and policy-makers can use this predictive power of k-NN to re-schedule, re-allocate, re-plan, etc."
   ]
  },
  {
   "cell_type": "markdown",
   "metadata": {},
   "source": [
    "## Conclusion"
   ]
  },
  {
   "cell_type": "markdown",
   "metadata": {},
   "source": [
    "In this project, we used kNN to predict and classify incoming students' likely final result. We rolled up four result categories into two - succeed or choke. \n",
    "The project is an example of supervised learning, whereby categories used for classification already exist.\n",
    "For planning, policy, (re)distribution of resources, etc, we need to be able to predict student's future performances based on data that reflects similar past experiences.\n",
    "The process included filtering out features we deemed important for predicting the target, that is, the final result.\n",
    "For the k-NN classification algorithm, as with most other ML tools, checking assumptions about our data matters greatly. The data should contain little statistical noise, it should be labelled, and the chosen features should be relevant.\n",
    "Lastly, several different paths can be pursued with the same kNN classification project. For example, we can test the impact of different combinations of features on the model's accuracy. We used less than half of the available features here and the combination was good enough to result in more than 80% prediction accuracy."
   ]
  },
  {
   "cell_type": "markdown",
   "metadata": {},
   "source": [
    "- By General Ntshalintshali\n",
    "- portfolio: [datastate.org](https://datastate.org/)"
   ]
  },
  {
   "cell_type": "code",
   "execution_count": null,
   "metadata": {},
   "outputs": [],
   "source": []
  }
 ],
 "metadata": {
  "kernelspec": {
   "display_name": "Python 3",
   "language": "python",
   "name": "python3"
  },
  "language_info": {
   "codemirror_mode": {
    "name": "ipython",
    "version": 3
   },
   "file_extension": ".py",
   "mimetype": "text/x-python",
   "name": "python",
   "nbconvert_exporter": "python",
   "pygments_lexer": "ipython3",
   "version": "3.7.1"
  }
 },
 "nbformat": 4,
 "nbformat_minor": 2
}
