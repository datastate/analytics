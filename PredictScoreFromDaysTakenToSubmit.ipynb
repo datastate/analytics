{
 "cells": [
  {
   "cell_type": "markdown",
   "metadata": {},
   "source": [
    "## Predict Performance Scores based on Number of Days taken to Submit Assignments"
   ]
  },
  {
   "cell_type": "markdown",
   "metadata": {},
   "source": [
    "This project illustrates the application of the K-Nearest Neighbor Machine Learning algorithm in its simplest form. It predicts the most likely score based on how long it takes for an assignment to be submitted by a learner. Given this knowledge, Educators and policy makers can influence how, when, and why students should work at a certain pace. Further, given this information, numbers of newly qualified people can be predicted and companies can adjust workforce strategy accordingly."
   ]
  },
  {
   "cell_type": "markdown",
   "metadata": {},
   "source": [
    "This the [Open Learning Analytics dataset](https://analyse.kmi.open.ac.uk/open_dataset) used in this project"
   ]
  },
  {
   "cell_type": "code",
   "execution_count": 1,
   "metadata": {},
   "outputs": [],
   "source": [
    "import pandas as pd # for this analysis, pandas is more suitable than a regular python list\n",
    "import numpy as np # required to calculate Euclidean distances, absolute values, etc"
   ]
  },
  {
   "cell_type": "code",
   "execution_count": 2,
   "metadata": {},
   "outputs": [
    {
     "name": "stdout",
     "output_type": "stream",
     "text": [
      "        id_assessment  id_student  date_submitted  is_banked  score\n",
      "111803          34878      605538              17          0     84\n",
      "21255           25359      619297             157          0     55\n",
      "119265          34865      510186              32          0     86\n",
      "26391           34874      599957              47          0     58\n",
      "100956          25334      291133              19          0     81\n"
     ]
    }
   ],
   "source": [
    "# Read the data into a dataframe\n",
    "\n",
    "assessments = pd.read_csv(\"C:\\dataHub\\studentAssessment.csv\") \n",
    "print(assessments.sample(n = 5)) # dynamically select a sample, provides snapshots of the data"
   ]
  },
  {
   "cell_type": "markdown",
   "metadata": {},
   "source": [
    "Initial plan: Find a few SIMILAR submission days, calculate the average test score of the submission days, and then determine the average test score expected for any submission day value. Try the k-nearest neigbor algorithm first since its functionality most closely fits my requirement"
   ]
  },
  {
   "cell_type": "markdown",
   "metadata": {},
   "source": [
    "To calculate the (Euclidean) distance, use the date_submitted feature from the data set"
   ]
  },
  {
   "cell_type": "code",
   "execution_count": 3,
   "metadata": {},
   "outputs": [
    {
     "name": "stdout",
     "output_type": "stream",
     "text": [
      "248\n",
      "300\n",
      "52\n"
     ]
    }
   ],
   "source": [
    "# Calculate the distance between the chosen number of submission days and whatever the submission day value is \n",
    "# I chose 300 days, which is about half of the maximum 608 days in the data set\n",
    "\n",
    "our_sub_day = 300\n",
    "first_sub_day = assessments.iloc[0]['date_submitted']\n",
    "first_euc_distance = np.abs(first_sub_day - our_sub_day)\n",
    "print(first_sub_day)\n",
    "print(our_sub_day)\n",
    "print(first_euc_distance)"
   ]
  },
  {
   "cell_type": "code",
   "execution_count": 4,
   "metadata": {},
   "outputs": [
    {
     "name": "stdout",
     "output_type": "stream",
     "text": [
      "282    2747\n",
      "231    2744\n",
      "281    2475\n",
      "100    2429\n",
      "279    2281\n",
      "Name: distance, dtype: int64\n"
     ]
    }
   ],
   "source": [
    "# Calculate the distance between each 'date_submitted' value and 300, our chosen number of days to submit\n",
    "# This requires calculating absolute values and returning a series of values in the new 'distance' field\n",
    "\n",
    "assessments['distance'] = assessments['date_submitted'].apply(lambda x: np.abs(x - our_sub_day))\n",
    "print(assessments['distance'].value_counts().head())"
   ]
  },
  {
   "cell_type": "code",
   "execution_count": 5,
   "metadata": {},
   "outputs": [
    {
     "name": "stdout",
     "output_type": "stream",
     "text": [
      "        id_assessment  id_student  date_submitted  is_banked  score  distance\n",
      "136252          34888      242998              85          0     91       215\n",
      "61595           24287      630449              69          0     72       231\n",
      "129506          30709      603222              31          0     89       269\n",
      "53316           34896      633983             226          0     70        74\n",
      "39080           34883      502249             196          0     64       104\n"
     ]
    }
   ],
   "source": [
    "# Checking our data with the new distance values\n",
    "\n",
    "print(assessments.sample(n = 5))"
   ]
  },
  {
   "cell_type": "code",
   "execution_count": 6,
   "metadata": {},
   "outputs": [
    {
     "name": "stdout",
     "output_type": "stream",
     "text": [
      "140325    93\n",
      "120037    87\n",
      "101116    82\n",
      "50816     69\n",
      "Name: score, dtype: int64\n"
     ]
    }
   ],
   "source": [
    "# To prevent bias, randomize the dataset\n",
    "\n",
    "assessments = assessments.loc[np.random.permutation(len(assessments))] # Randomize index values and shuffle the dataset\n",
    "assessments = assessments.sort_values('distance') # Sort by the 'distance' field\n",
    "print(assessments.iloc[0:4]['score']) # display scores of the 5 MOST SIMILAR ASSESSMENTS"
   ]
  },
  {
   "cell_type": "code",
   "execution_count": 7,
   "metadata": {},
   "outputs": [
    {
     "name": "stdout",
     "output_type": "stream",
     "text": [
      "82.75\n"
     ]
    }
   ],
   "source": [
    "# Calculate the average score of the 4 MOST SIMILAR ASSESSMENTS\n",
    "avg_score = assessments.iloc[:4]['score'].mean()\n",
    "print(avg_score)"
   ]
  },
  {
   "cell_type": "markdown",
   "metadata": {},
   "source": [
    "Based on applying the k-nearest neighbor algorithm, a student who submits an assignment halfway into the\n",
    "allocated time (300th day out of a possible 608 days) is predicated to score 89.8%"
   ]
  },
  {
   "cell_type": "markdown",
   "metadata": {},
   "source": [
    "Next, we determine the most likely score given other submission days. This entails determining how good this evaluation is."
   ]
  },
  {
   "cell_type": "code",
   "execution_count": 8,
   "metadata": {},
   "outputs": [
    {
     "name": "stdout",
     "output_type": "stream",
     "text": [
      "80.25\n",
      "79.0\n",
      "84.25\n"
     ]
    }
   ],
   "source": [
    "# Construct a function that uses the k-nearest neighbor algorithm to predict a score for a given submission day\n",
    "\n",
    "def predict_score(new_submission): # number of days when assignment is submitted\n",
    "    temp_assess = assessments.copy() # assign current data to a new df\n",
    "    \n",
    "    # calculate absolute distance between newly submitted value (days) and each current days value\n",
    "    temp_assess['distance'] = temp_assess['date_submitted'].apply(lambda x: np.abs(x - new_submission))\n",
    "    temp_assess = temp_assess.sort_values('distance') # sort by newly calculated 'distance' values\n",
    "    nearest_neighbors = temp_assess.iloc[0:4]['score'] # select 4 nearest neighbors' scores\n",
    "    predicted_score = nearest_neighbors.mean() # calculate the 4 nearest neighbors' average score\n",
    "    return(predicted_score) # the average score is the return value for the predict_score function\n",
    "\n",
    "# Use the predict_score function to suggest a score based on the number of days an assignment is submitted\n",
    "\n",
    "submit_after_100_days = predict_score(100)\n",
    "submit_after_300_days = predict_score(400)\n",
    "submit_after_500_days = predict_score(500)\n",
    "\n",
    "print(submit_after_100_days)\n",
    "print(submit_after_300_days)\n",
    "print(submit_after_500_days)"
   ]
  },
  {
   "cell_type": "code",
   "execution_count": 9,
   "metadata": {},
   "outputs": [],
   "source": [
    "# For this univariate exercise, a single feature and a fixed k value was used. The simplicity helps with\n",
    "# highlighting Machine Learning's K-Nearest Neighbor algorithm workflow."
   ]
  },
  {
   "cell_type": "markdown",
   "metadata": {},
   "source": [
    "## Conclusion"
   ]
  },
  {
   "cell_type": "markdown",
   "metadata": {},
   "source": [
    "In this project, I illustrated an application of the K-Nearest Neighbor Machine Learning algorithm in its simplest form. \"Simple\" because the analysis is univariate and the k value is fixed. A more robust application of this ML workflow on similar learning analytics data would, for instance, consider more than one feature. One would expect that features such as disability status, highest education, and the number of previous attempts would predict performance differently. "
   ]
  },
  {
   "cell_type": "markdown",
   "metadata": {},
   "source": [
    "I concluded that based on submitting an assignment roughly halfway into the allocated period, a score of 89.8% can be predicted. This work is not complete; for instance, a suggested next step is to evaluate how good this prediction is. "
   ]
  },
  {
   "cell_type": "markdown",
   "metadata": {},
   "source": [
    "Finally, please note that this ML method can be a computational nightmare if working with very large data sets: each time you need to predict a score based on a new days value submitted, calculating distances and ranking occurs on the entire data set. It is therefore recommended that it be applied in smaller data sets for purposes of testing the code."
   ]
  }
 ],
 "metadata": {
  "kernelspec": {
   "display_name": "Python 3",
   "language": "python",
   "name": "python3"
  },
  "language_info": {
   "codemirror_mode": {
    "name": "ipython",
    "version": 3
   },
   "file_extension": ".py",
   "mimetype": "text/x-python",
   "name": "python",
   "nbconvert_exporter": "python",
   "pygments_lexer": "ipython3",
   "version": "3.7.1"
  }
 },
 "nbformat": 4,
 "nbformat_minor": 2
}
